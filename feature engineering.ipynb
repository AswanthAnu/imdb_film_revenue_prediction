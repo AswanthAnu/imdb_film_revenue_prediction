{
 "cells": [
  {
   "cell_type": "code",
   "execution_count": 1,
   "id": "51b87d8d",
   "metadata": {},
   "outputs": [],
   "source": [
    "import pandas as pd\n",
    "import numpy as np"
   ]
  },
  {
   "cell_type": "code",
   "execution_count": 2,
   "id": "17e6dd0b",
   "metadata": {},
   "outputs": [],
   "source": [
    "import warnings\n",
    "warnings.filterwarnings(\"ignore\")"
   ]
  },
  {
   "cell_type": "code",
   "execution_count": 3,
   "id": "39e029f7",
   "metadata": {},
   "outputs": [],
   "source": [
    "df = pd.read_csv('imdb_data_cleaned.csv')"
   ]
  },
  {
   "cell_type": "code",
   "execution_count": 4,
   "id": "b29be8d4",
   "metadata": {},
   "outputs": [],
   "source": [
    "### Create a new feature called Rating_cat\n",
    "def rating(rating):\n",
    "    if rating >= 7.5:\n",
    "        return 'Excellent'\n",
    "\n",
    "    elif rating >= 6.0:\n",
    "        return 'Good'\n",
    "    else:\n",
    "        return 'average'"
   ]
  },
  {
   "cell_type": "code",
   "execution_count": 5,
   "id": "787de342",
   "metadata": {},
   "outputs": [],
   "source": [
    "df['Rating_cat'] = df[\"Rating\"].apply(rating)"
   ]
  },
  {
   "cell_type": "code",
   "execution_count": 6,
   "id": "c5376b3f",
   "metadata": {},
   "outputs": [
    {
     "data": {
      "text/plain": [
       "0       Action,Adventure,Sci-Fi\n",
       "1      Adventure,Mystery,Sci-Fi\n",
       "2               Horror,Thriller\n",
       "3       Animation,Comedy,Family\n",
       "4      Action,Adventure,Fantasy\n",
       "                 ...           \n",
       "833     Action,Adventure,Horror\n",
       "834                      Comedy\n",
       "835                      Horror\n",
       "836         Drama,Music,Romance\n",
       "837       Comedy,Family,Fantasy\n",
       "Name: Genre, Length: 838, dtype: object"
      ]
     },
     "execution_count": 6,
     "metadata": {},
     "output_type": "execute_result"
    }
   ],
   "source": [
    "df['Genre']"
   ]
  },
  {
   "cell_type": "code",
   "execution_count": 7,
   "id": "05521e99",
   "metadata": {},
   "outputs": [],
   "source": [
    "glist = []\n",
    "for value in df['Genre']:\n",
    "    glist.append(value.split(','))"
   ]
  },
  {
   "cell_type": "code",
   "execution_count": 8,
   "id": "26cca7c2",
   "metadata": {},
   "outputs": [],
   "source": [
    "genre_list = []\n",
    "\n",
    "for item in glist:\n",
    "    for item1 in item:\n",
    "        if item1 not in genre_list:\n",
    "            genre_list.append(item1)"
   ]
  },
  {
   "cell_type": "code",
   "execution_count": 9,
   "id": "aa74f6d5",
   "metadata": {},
   "outputs": [
    {
     "data": {
      "text/plain": [
       "['Action',\n",
       " 'Adventure',\n",
       " 'Sci-Fi',\n",
       " 'Mystery',\n",
       " 'Horror',\n",
       " 'Thriller',\n",
       " 'Animation',\n",
       " 'Comedy',\n",
       " 'Family',\n",
       " 'Fantasy',\n",
       " 'Drama',\n",
       " 'Music',\n",
       " 'Biography',\n",
       " 'Romance',\n",
       " 'History',\n",
       " 'Western',\n",
       " 'Crime',\n",
       " 'War',\n",
       " 'Musical',\n",
       " 'Sport']"
      ]
     },
     "execution_count": 9,
     "metadata": {},
     "output_type": "execute_result"
    }
   ],
   "source": [
    "genre_list"
   ]
  },
  {
   "cell_type": "code",
   "execution_count": 10,
   "id": "8608208e",
   "metadata": {},
   "outputs": [],
   "source": [
    "one_d = []\n",
    "\n",
    "for item in glist:\n",
    "    for item1 in item:\n",
    "        one_d.append(item1)"
   ]
  },
  {
   "cell_type": "code",
   "execution_count": 11,
   "id": "5705aee9",
   "metadata": {},
   "outputs": [],
   "source": [
    "from collections import Counter"
   ]
  },
  {
   "cell_type": "code",
   "execution_count": 12,
   "id": "87307a07",
   "metadata": {},
   "outputs": [
    {
     "data": {
      "text/plain": [
       "Counter({'Action': 277,\n",
       "         'Adventure': 244,\n",
       "         'Sci-Fi': 107,\n",
       "         'Mystery': 86,\n",
       "         'Horror': 87,\n",
       "         'Thriller': 148,\n",
       "         'Animation': 45,\n",
       "         'Comedy': 250,\n",
       "         'Family': 48,\n",
       "         'Fantasy': 92,\n",
       "         'Drama': 419,\n",
       "         'Music': 15,\n",
       "         'Biography': 67,\n",
       "         'Romance': 120,\n",
       "         'History': 25,\n",
       "         'Western': 4,\n",
       "         'Crime': 126,\n",
       "         'War': 10,\n",
       "         'Musical': 5,\n",
       "         'Sport': 15})"
      ]
     },
     "execution_count": 12,
     "metadata": {},
     "output_type": "execute_result"
    }
   ],
   "source": [
    "Counter(one_d)"
   ]
  },
  {
   "cell_type": "code",
   "execution_count": 13,
   "id": "47e5c74d",
   "metadata": {},
   "outputs": [],
   "source": [
    "def create_genre_columns(df, genre_column, genre_list):\n",
    "    # Create new columns for each genre in the list\n",
    "    for genre in genre_list:\n",
    "        df[genre] = 0\n",
    "    \n",
    "    # Loop through the rows of the DataFrame\n",
    "    for index, row in df.iterrows():\n",
    "        # Split the 'Genre' column into a list of genres\n",
    "        genres = row[genre_column].split(',')\n",
    "        \n",
    "        # Loop through the genres\n",
    "        for genre in genres:\n",
    "            # If the genre is in the list, set the corresponding column value to 1\n",
    "            if genre in genre_list:\n",
    "                df.at[index, genre] = 1\n"
   ]
  },
  {
   "cell_type": "code",
   "execution_count": 14,
   "id": "09418378",
   "metadata": {},
   "outputs": [],
   "source": [
    "create_genre_columns(df, 'Genre', genre_list)"
   ]
  },
  {
   "cell_type": "code",
   "execution_count": 15,
   "id": "8c9ca21b",
   "metadata": {},
   "outputs": [],
   "source": [
    "df = pd.get_dummies(df, columns=['Director', 'Rating_cat'])"
   ]
  },
  {
   "cell_type": "code",
   "execution_count": 16,
   "id": "4c9292cc",
   "metadata": {},
   "outputs": [],
   "source": [
    "df_new = df.drop(['Title', 'Genre', 'Description', 'Actors'], axis = 1)"
   ]
  },
  {
   "cell_type": "code",
   "execution_count": 17,
   "id": "d82a13ba",
   "metadata": {},
   "outputs": [
    {
     "data": {
      "text/html": [
       "<div>\n",
       "<style scoped>\n",
       "    .dataframe tbody tr th:only-of-type {\n",
       "        vertical-align: middle;\n",
       "    }\n",
       "\n",
       "    .dataframe tbody tr th {\n",
       "        vertical-align: top;\n",
       "    }\n",
       "\n",
       "    .dataframe thead th {\n",
       "        text-align: right;\n",
       "    }\n",
       "</style>\n",
       "<table border=\"1\" class=\"dataframe\">\n",
       "  <thead>\n",
       "    <tr style=\"text-align: right;\">\n",
       "      <th></th>\n",
       "      <th>Year</th>\n",
       "      <th>Runtime (Minutes)</th>\n",
       "      <th>Rating</th>\n",
       "      <th>Votes</th>\n",
       "      <th>Revenue (Millions)</th>\n",
       "      <th>Metascore</th>\n",
       "      <th>Action</th>\n",
       "      <th>Adventure</th>\n",
       "      <th>Sci-Fi</th>\n",
       "      <th>Mystery</th>\n",
       "      <th>...</th>\n",
       "      <th>Director_William Brent Bell</th>\n",
       "      <th>Director_Woody Allen</th>\n",
       "      <th>Director_Xavier Dolan</th>\n",
       "      <th>Director_Yimou Zhang</th>\n",
       "      <th>Director_Yorgos Lanthimos</th>\n",
       "      <th>Director_Zack Snyder</th>\n",
       "      <th>Director_Zackary Adler</th>\n",
       "      <th>Rating_cat_Excellent</th>\n",
       "      <th>Rating_cat_Good</th>\n",
       "      <th>Rating_cat_average</th>\n",
       "    </tr>\n",
       "  </thead>\n",
       "  <tbody>\n",
       "    <tr>\n",
       "      <th>0</th>\n",
       "      <td>2014</td>\n",
       "      <td>121.0</td>\n",
       "      <td>8.1</td>\n",
       "      <td>585792.75</td>\n",
       "      <td>271.04875</td>\n",
       "      <td>76.0</td>\n",
       "      <td>1</td>\n",
       "      <td>1</td>\n",
       "      <td>1</td>\n",
       "      <td>0</td>\n",
       "      <td>...</td>\n",
       "      <td>0</td>\n",
       "      <td>0</td>\n",
       "      <td>0</td>\n",
       "      <td>0</td>\n",
       "      <td>0</td>\n",
       "      <td>0</td>\n",
       "      <td>0</td>\n",
       "      <td>1</td>\n",
       "      <td>0</td>\n",
       "      <td>0</td>\n",
       "    </tr>\n",
       "    <tr>\n",
       "      <th>1</th>\n",
       "      <td>2012</td>\n",
       "      <td>124.0</td>\n",
       "      <td>7.0</td>\n",
       "      <td>485820.00</td>\n",
       "      <td>126.46000</td>\n",
       "      <td>65.0</td>\n",
       "      <td>0</td>\n",
       "      <td>1</td>\n",
       "      <td>1</td>\n",
       "      <td>1</td>\n",
       "      <td>...</td>\n",
       "      <td>0</td>\n",
       "      <td>0</td>\n",
       "      <td>0</td>\n",
       "      <td>0</td>\n",
       "      <td>0</td>\n",
       "      <td>0</td>\n",
       "      <td>0</td>\n",
       "      <td>0</td>\n",
       "      <td>1</td>\n",
       "      <td>0</td>\n",
       "    </tr>\n",
       "    <tr>\n",
       "      <th>2</th>\n",
       "      <td>2016</td>\n",
       "      <td>117.0</td>\n",
       "      <td>7.3</td>\n",
       "      <td>157606.00</td>\n",
       "      <td>138.12000</td>\n",
       "      <td>62.0</td>\n",
       "      <td>0</td>\n",
       "      <td>0</td>\n",
       "      <td>0</td>\n",
       "      <td>0</td>\n",
       "      <td>...</td>\n",
       "      <td>0</td>\n",
       "      <td>0</td>\n",
       "      <td>0</td>\n",
       "      <td>0</td>\n",
       "      <td>0</td>\n",
       "      <td>0</td>\n",
       "      <td>0</td>\n",
       "      <td>0</td>\n",
       "      <td>1</td>\n",
       "      <td>0</td>\n",
       "    </tr>\n",
       "    <tr>\n",
       "      <th>3</th>\n",
       "      <td>2016</td>\n",
       "      <td>108.0</td>\n",
       "      <td>7.2</td>\n",
       "      <td>60545.00</td>\n",
       "      <td>270.32000</td>\n",
       "      <td>59.0</td>\n",
       "      <td>0</td>\n",
       "      <td>0</td>\n",
       "      <td>0</td>\n",
       "      <td>0</td>\n",
       "      <td>...</td>\n",
       "      <td>0</td>\n",
       "      <td>0</td>\n",
       "      <td>0</td>\n",
       "      <td>0</td>\n",
       "      <td>0</td>\n",
       "      <td>0</td>\n",
       "      <td>0</td>\n",
       "      <td>0</td>\n",
       "      <td>1</td>\n",
       "      <td>0</td>\n",
       "    </tr>\n",
       "    <tr>\n",
       "      <th>4</th>\n",
       "      <td>2016</td>\n",
       "      <td>123.0</td>\n",
       "      <td>6.2</td>\n",
       "      <td>393727.00</td>\n",
       "      <td>271.04875</td>\n",
       "      <td>40.0</td>\n",
       "      <td>1</td>\n",
       "      <td>1</td>\n",
       "      <td>0</td>\n",
       "      <td>0</td>\n",
       "      <td>...</td>\n",
       "      <td>0</td>\n",
       "      <td>0</td>\n",
       "      <td>0</td>\n",
       "      <td>0</td>\n",
       "      <td>0</td>\n",
       "      <td>0</td>\n",
       "      <td>0</td>\n",
       "      <td>0</td>\n",
       "      <td>1</td>\n",
       "      <td>0</td>\n",
       "    </tr>\n",
       "  </tbody>\n",
       "</table>\n",
       "<p>5 rows × 553 columns</p>\n",
       "</div>"
      ],
      "text/plain": [
       "   Year  Runtime (Minutes)  Rating      Votes  Revenue (Millions)  Metascore  \\\n",
       "0  2014              121.0     8.1  585792.75           271.04875       76.0   \n",
       "1  2012              124.0     7.0  485820.00           126.46000       65.0   \n",
       "2  2016              117.0     7.3  157606.00           138.12000       62.0   \n",
       "3  2016              108.0     7.2   60545.00           270.32000       59.0   \n",
       "4  2016              123.0     6.2  393727.00           271.04875       40.0   \n",
       "\n",
       "   Action  Adventure  Sci-Fi  Mystery  ...  Director_William Brent Bell  \\\n",
       "0       1          1       1        0  ...                            0   \n",
       "1       0          1       1        1  ...                            0   \n",
       "2       0          0       0        0  ...                            0   \n",
       "3       0          0       0        0  ...                            0   \n",
       "4       1          1       0        0  ...                            0   \n",
       "\n",
       "   Director_Woody Allen  Director_Xavier Dolan  Director_Yimou Zhang  \\\n",
       "0                     0                      0                     0   \n",
       "1                     0                      0                     0   \n",
       "2                     0                      0                     0   \n",
       "3                     0                      0                     0   \n",
       "4                     0                      0                     0   \n",
       "\n",
       "   Director_Yorgos Lanthimos  Director_Zack Snyder  Director_Zackary Adler  \\\n",
       "0                          0                     0                       0   \n",
       "1                          0                     0                       0   \n",
       "2                          0                     0                       0   \n",
       "3                          0                     0                       0   \n",
       "4                          0                     0                       0   \n",
       "\n",
       "   Rating_cat_Excellent  Rating_cat_Good  Rating_cat_average  \n",
       "0                     1                0                   0  \n",
       "1                     0                1                   0  \n",
       "2                     0                1                   0  \n",
       "3                     0                1                   0  \n",
       "4                     0                1                   0  \n",
       "\n",
       "[5 rows x 553 columns]"
      ]
     },
     "execution_count": 17,
     "metadata": {},
     "output_type": "execute_result"
    }
   ],
   "source": [
    "df_new.head()"
   ]
  },
  {
   "cell_type": "code",
   "execution_count": 18,
   "id": "3b1d03cb",
   "metadata": {},
   "outputs": [],
   "source": [
    "df_new.to_csv('imdb_numeric_format.csv', index=False)"
   ]
  },
  {
   "cell_type": "code",
   "execution_count": null,
   "id": "6fdb209f",
   "metadata": {},
   "outputs": [],
   "source": []
  }
 ],
 "metadata": {
  "kernelspec": {
   "display_name": "bobbykernal",
   "language": "python",
   "name": "bobbykernal"
  },
  "language_info": {
   "codemirror_mode": {
    "name": "ipython",
    "version": 3
   },
   "file_extension": ".py",
   "mimetype": "text/x-python",
   "name": "python",
   "nbconvert_exporter": "python",
   "pygments_lexer": "ipython3",
   "version": "3.10.6"
  }
 },
 "nbformat": 4,
 "nbformat_minor": 5
}
