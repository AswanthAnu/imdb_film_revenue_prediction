{
 "cells": [
  {
   "cell_type": "code",
   "execution_count": 1,
   "id": "29ef5912",
   "metadata": {},
   "outputs": [],
   "source": [
    "import pandas as pd\n",
    "import numpy as np\n",
    "import seaborn as sns\n",
    "import matplotlib.pyplot as plt\n",
    "%matplotlib inline"
   ]
  },
  {
   "cell_type": "code",
   "execution_count": 2,
   "id": "e91da1f6",
   "metadata": {},
   "outputs": [],
   "source": [
    "df = pd.read_csv('IMDB-Movie-Data.csv', index_col='Rank')"
   ]
  },
  {
   "cell_type": "code",
   "execution_count": 3,
   "id": "c7fe579f",
   "metadata": {},
   "outputs": [
    {
     "data": {
      "text/html": [
       "<div>\n",
       "<style scoped>\n",
       "    .dataframe tbody tr th:only-of-type {\n",
       "        vertical-align: middle;\n",
       "    }\n",
       "\n",
       "    .dataframe tbody tr th {\n",
       "        vertical-align: top;\n",
       "    }\n",
       "\n",
       "    .dataframe thead th {\n",
       "        text-align: right;\n",
       "    }\n",
       "</style>\n",
       "<table border=\"1\" class=\"dataframe\">\n",
       "  <thead>\n",
       "    <tr style=\"text-align: right;\">\n",
       "      <th></th>\n",
       "      <th>Title</th>\n",
       "      <th>Genre</th>\n",
       "      <th>Description</th>\n",
       "      <th>Director</th>\n",
       "      <th>Actors</th>\n",
       "      <th>Year</th>\n",
       "      <th>Runtime (Minutes)</th>\n",
       "      <th>Rating</th>\n",
       "      <th>Votes</th>\n",
       "      <th>Revenue (Millions)</th>\n",
       "      <th>Metascore</th>\n",
       "    </tr>\n",
       "    <tr>\n",
       "      <th>Rank</th>\n",
       "      <th></th>\n",
       "      <th></th>\n",
       "      <th></th>\n",
       "      <th></th>\n",
       "      <th></th>\n",
       "      <th></th>\n",
       "      <th></th>\n",
       "      <th></th>\n",
       "      <th></th>\n",
       "      <th></th>\n",
       "      <th></th>\n",
       "    </tr>\n",
       "  </thead>\n",
       "  <tbody>\n",
       "    <tr>\n",
       "      <th>1</th>\n",
       "      <td>Guardians of the Galaxy</td>\n",
       "      <td>Action,Adventure,Sci-Fi</td>\n",
       "      <td>A group of intergalactic criminals are forced ...</td>\n",
       "      <td>James Gunn</td>\n",
       "      <td>Chris Pratt, Vin Diesel, Bradley Cooper, Zoe S...</td>\n",
       "      <td>2014</td>\n",
       "      <td>121</td>\n",
       "      <td>8.1</td>\n",
       "      <td>757074</td>\n",
       "      <td>333.13</td>\n",
       "      <td>76.0</td>\n",
       "    </tr>\n",
       "    <tr>\n",
       "      <th>2</th>\n",
       "      <td>Prometheus</td>\n",
       "      <td>Adventure,Mystery,Sci-Fi</td>\n",
       "      <td>Following clues to the origin of mankind, a te...</td>\n",
       "      <td>Ridley Scott</td>\n",
       "      <td>Noomi Rapace, Logan Marshall-Green, Michael Fa...</td>\n",
       "      <td>2012</td>\n",
       "      <td>124</td>\n",
       "      <td>7.0</td>\n",
       "      <td>485820</td>\n",
       "      <td>126.46</td>\n",
       "      <td>65.0</td>\n",
       "    </tr>\n",
       "    <tr>\n",
       "      <th>3</th>\n",
       "      <td>Split</td>\n",
       "      <td>Horror,Thriller</td>\n",
       "      <td>Three girls are kidnapped by a man with a diag...</td>\n",
       "      <td>M. Night Shyamalan</td>\n",
       "      <td>James McAvoy, Anya Taylor-Joy, Haley Lu Richar...</td>\n",
       "      <td>2016</td>\n",
       "      <td>117</td>\n",
       "      <td>7.3</td>\n",
       "      <td>157606</td>\n",
       "      <td>138.12</td>\n",
       "      <td>62.0</td>\n",
       "    </tr>\n",
       "    <tr>\n",
       "      <th>4</th>\n",
       "      <td>Sing</td>\n",
       "      <td>Animation,Comedy,Family</td>\n",
       "      <td>In a city of humanoid animals, a hustling thea...</td>\n",
       "      <td>Christophe Lourdelet</td>\n",
       "      <td>Matthew McConaughey,Reese Witherspoon, Seth Ma...</td>\n",
       "      <td>2016</td>\n",
       "      <td>108</td>\n",
       "      <td>7.2</td>\n",
       "      <td>60545</td>\n",
       "      <td>270.32</td>\n",
       "      <td>59.0</td>\n",
       "    </tr>\n",
       "    <tr>\n",
       "      <th>5</th>\n",
       "      <td>Suicide Squad</td>\n",
       "      <td>Action,Adventure,Fantasy</td>\n",
       "      <td>A secret government agency recruits some of th...</td>\n",
       "      <td>David Ayer</td>\n",
       "      <td>Will Smith, Jared Leto, Margot Robbie, Viola D...</td>\n",
       "      <td>2016</td>\n",
       "      <td>123</td>\n",
       "      <td>6.2</td>\n",
       "      <td>393727</td>\n",
       "      <td>325.02</td>\n",
       "      <td>40.0</td>\n",
       "    </tr>\n",
       "    <tr>\n",
       "      <th>6</th>\n",
       "      <td>The Great Wall</td>\n",
       "      <td>Action,Adventure,Fantasy</td>\n",
       "      <td>European mercenaries searching for black powde...</td>\n",
       "      <td>Yimou Zhang</td>\n",
       "      <td>Matt Damon, Tian Jing, Willem Dafoe, Andy Lau</td>\n",
       "      <td>2016</td>\n",
       "      <td>103</td>\n",
       "      <td>6.1</td>\n",
       "      <td>56036</td>\n",
       "      <td>45.13</td>\n",
       "      <td>42.0</td>\n",
       "    </tr>\n",
       "    <tr>\n",
       "      <th>7</th>\n",
       "      <td>La La Land</td>\n",
       "      <td>Comedy,Drama,Music</td>\n",
       "      <td>A jazz pianist falls for an aspiring actress i...</td>\n",
       "      <td>Damien Chazelle</td>\n",
       "      <td>Ryan Gosling, Emma Stone, Rosemarie DeWitt, J....</td>\n",
       "      <td>2016</td>\n",
       "      <td>128</td>\n",
       "      <td>8.3</td>\n",
       "      <td>258682</td>\n",
       "      <td>151.06</td>\n",
       "      <td>93.0</td>\n",
       "    </tr>\n",
       "    <tr>\n",
       "      <th>8</th>\n",
       "      <td>Mindhorn</td>\n",
       "      <td>Comedy</td>\n",
       "      <td>A has-been actor best known for playing the ti...</td>\n",
       "      <td>Sean Foley</td>\n",
       "      <td>Essie Davis, Andrea Riseborough, Julian Barrat...</td>\n",
       "      <td>2016</td>\n",
       "      <td>89</td>\n",
       "      <td>6.4</td>\n",
       "      <td>2490</td>\n",
       "      <td>NaN</td>\n",
       "      <td>71.0</td>\n",
       "    </tr>\n",
       "    <tr>\n",
       "      <th>9</th>\n",
       "      <td>The Lost City of Z</td>\n",
       "      <td>Action,Adventure,Biography</td>\n",
       "      <td>A true-life drama, centering on British explor...</td>\n",
       "      <td>James Gray</td>\n",
       "      <td>Charlie Hunnam, Robert Pattinson, Sienna Mille...</td>\n",
       "      <td>2016</td>\n",
       "      <td>141</td>\n",
       "      <td>7.1</td>\n",
       "      <td>7188</td>\n",
       "      <td>8.01</td>\n",
       "      <td>78.0</td>\n",
       "    </tr>\n",
       "    <tr>\n",
       "      <th>10</th>\n",
       "      <td>Passengers</td>\n",
       "      <td>Adventure,Drama,Romance</td>\n",
       "      <td>A spacecraft traveling to a distant colony pla...</td>\n",
       "      <td>Morten Tyldum</td>\n",
       "      <td>Jennifer Lawrence, Chris Pratt, Michael Sheen,...</td>\n",
       "      <td>2016</td>\n",
       "      <td>116</td>\n",
       "      <td>7.0</td>\n",
       "      <td>192177</td>\n",
       "      <td>100.01</td>\n",
       "      <td>41.0</td>\n",
       "    </tr>\n",
       "  </tbody>\n",
       "</table>\n",
       "</div>"
      ],
      "text/plain": [
       "                        Title                       Genre  \\\n",
       "Rank                                                        \n",
       "1     Guardians of the Galaxy     Action,Adventure,Sci-Fi   \n",
       "2                  Prometheus    Adventure,Mystery,Sci-Fi   \n",
       "3                       Split             Horror,Thriller   \n",
       "4                        Sing     Animation,Comedy,Family   \n",
       "5               Suicide Squad    Action,Adventure,Fantasy   \n",
       "6              The Great Wall    Action,Adventure,Fantasy   \n",
       "7                  La La Land          Comedy,Drama,Music   \n",
       "8                    Mindhorn                      Comedy   \n",
       "9          The Lost City of Z  Action,Adventure,Biography   \n",
       "10                 Passengers     Adventure,Drama,Romance   \n",
       "\n",
       "                                            Description              Director  \\\n",
       "Rank                                                                            \n",
       "1     A group of intergalactic criminals are forced ...            James Gunn   \n",
       "2     Following clues to the origin of mankind, a te...          Ridley Scott   \n",
       "3     Three girls are kidnapped by a man with a diag...    M. Night Shyamalan   \n",
       "4     In a city of humanoid animals, a hustling thea...  Christophe Lourdelet   \n",
       "5     A secret government agency recruits some of th...            David Ayer   \n",
       "6     European mercenaries searching for black powde...           Yimou Zhang   \n",
       "7     A jazz pianist falls for an aspiring actress i...       Damien Chazelle   \n",
       "8     A has-been actor best known for playing the ti...            Sean Foley   \n",
       "9     A true-life drama, centering on British explor...            James Gray   \n",
       "10    A spacecraft traveling to a distant colony pla...         Morten Tyldum   \n",
       "\n",
       "                                                 Actors  Year  \\\n",
       "Rank                                                            \n",
       "1     Chris Pratt, Vin Diesel, Bradley Cooper, Zoe S...  2014   \n",
       "2     Noomi Rapace, Logan Marshall-Green, Michael Fa...  2012   \n",
       "3     James McAvoy, Anya Taylor-Joy, Haley Lu Richar...  2016   \n",
       "4     Matthew McConaughey,Reese Witherspoon, Seth Ma...  2016   \n",
       "5     Will Smith, Jared Leto, Margot Robbie, Viola D...  2016   \n",
       "6         Matt Damon, Tian Jing, Willem Dafoe, Andy Lau  2016   \n",
       "7     Ryan Gosling, Emma Stone, Rosemarie DeWitt, J....  2016   \n",
       "8     Essie Davis, Andrea Riseborough, Julian Barrat...  2016   \n",
       "9     Charlie Hunnam, Robert Pattinson, Sienna Mille...  2016   \n",
       "10    Jennifer Lawrence, Chris Pratt, Michael Sheen,...  2016   \n",
       "\n",
       "      Runtime (Minutes)  Rating   Votes  Revenue (Millions)  Metascore  \n",
       "Rank                                                                    \n",
       "1                   121     8.1  757074              333.13       76.0  \n",
       "2                   124     7.0  485820              126.46       65.0  \n",
       "3                   117     7.3  157606              138.12       62.0  \n",
       "4                   108     7.2   60545              270.32       59.0  \n",
       "5                   123     6.2  393727              325.02       40.0  \n",
       "6                   103     6.1   56036               45.13       42.0  \n",
       "7                   128     8.3  258682              151.06       93.0  \n",
       "8                    89     6.4    2490                 NaN       71.0  \n",
       "9                   141     7.1    7188                8.01       78.0  \n",
       "10                  116     7.0  192177              100.01       41.0  "
      ]
     },
     "execution_count": 3,
     "metadata": {},
     "output_type": "execute_result"
    }
   ],
   "source": [
    "df.head(10)"
   ]
  },
  {
   "cell_type": "code",
   "execution_count": 4,
   "id": "e571ba7a",
   "metadata": {},
   "outputs": [
    {
     "data": {
      "text/html": [
       "<div>\n",
       "<style scoped>\n",
       "    .dataframe tbody tr th:only-of-type {\n",
       "        vertical-align: middle;\n",
       "    }\n",
       "\n",
       "    .dataframe tbody tr th {\n",
       "        vertical-align: top;\n",
       "    }\n",
       "\n",
       "    .dataframe thead th {\n",
       "        text-align: right;\n",
       "    }\n",
       "</style>\n",
       "<table border=\"1\" class=\"dataframe\">\n",
       "  <thead>\n",
       "    <tr style=\"text-align: right;\">\n",
       "      <th></th>\n",
       "      <th>Title</th>\n",
       "      <th>Genre</th>\n",
       "      <th>Description</th>\n",
       "      <th>Director</th>\n",
       "      <th>Actors</th>\n",
       "      <th>Year</th>\n",
       "      <th>Runtime (Minutes)</th>\n",
       "      <th>Rating</th>\n",
       "      <th>Votes</th>\n",
       "      <th>Revenue (Millions)</th>\n",
       "      <th>Metascore</th>\n",
       "    </tr>\n",
       "    <tr>\n",
       "      <th>Rank</th>\n",
       "      <th></th>\n",
       "      <th></th>\n",
       "      <th></th>\n",
       "      <th></th>\n",
       "      <th></th>\n",
       "      <th></th>\n",
       "      <th></th>\n",
       "      <th></th>\n",
       "      <th></th>\n",
       "      <th></th>\n",
       "      <th></th>\n",
       "    </tr>\n",
       "  </thead>\n",
       "  <tbody>\n",
       "    <tr>\n",
       "      <th>998</th>\n",
       "      <td>Step Up 2: The Streets</td>\n",
       "      <td>Drama,Music,Romance</td>\n",
       "      <td>Romantic sparks occur between two dance studen...</td>\n",
       "      <td>Jon M. Chu</td>\n",
       "      <td>Robert Hoffman, Briana Evigan, Cassie Ventura,...</td>\n",
       "      <td>2008</td>\n",
       "      <td>98</td>\n",
       "      <td>6.2</td>\n",
       "      <td>70699</td>\n",
       "      <td>58.01</td>\n",
       "      <td>50.0</td>\n",
       "    </tr>\n",
       "    <tr>\n",
       "      <th>999</th>\n",
       "      <td>Search Party</td>\n",
       "      <td>Adventure,Comedy</td>\n",
       "      <td>A pair of friends embark on a mission to reuni...</td>\n",
       "      <td>Scot Armstrong</td>\n",
       "      <td>Adam Pally, T.J. Miller, Thomas Middleditch,Sh...</td>\n",
       "      <td>2014</td>\n",
       "      <td>93</td>\n",
       "      <td>5.6</td>\n",
       "      <td>4881</td>\n",
       "      <td>NaN</td>\n",
       "      <td>22.0</td>\n",
       "    </tr>\n",
       "    <tr>\n",
       "      <th>1000</th>\n",
       "      <td>Nine Lives</td>\n",
       "      <td>Comedy,Family,Fantasy</td>\n",
       "      <td>A stuffy businessman finds himself trapped ins...</td>\n",
       "      <td>Barry Sonnenfeld</td>\n",
       "      <td>Kevin Spacey, Jennifer Garner, Robbie Amell,Ch...</td>\n",
       "      <td>2016</td>\n",
       "      <td>87</td>\n",
       "      <td>5.3</td>\n",
       "      <td>12435</td>\n",
       "      <td>19.64</td>\n",
       "      <td>11.0</td>\n",
       "    </tr>\n",
       "  </tbody>\n",
       "</table>\n",
       "</div>"
      ],
      "text/plain": [
       "                       Title                  Genre  \\\n",
       "Rank                                                  \n",
       "998   Step Up 2: The Streets    Drama,Music,Romance   \n",
       "999             Search Party       Adventure,Comedy   \n",
       "1000              Nine Lives  Comedy,Family,Fantasy   \n",
       "\n",
       "                                            Description          Director  \\\n",
       "Rank                                                                        \n",
       "998   Romantic sparks occur between two dance studen...        Jon M. Chu   \n",
       "999   A pair of friends embark on a mission to reuni...    Scot Armstrong   \n",
       "1000  A stuffy businessman finds himself trapped ins...  Barry Sonnenfeld   \n",
       "\n",
       "                                                 Actors  Year  \\\n",
       "Rank                                                            \n",
       "998   Robert Hoffman, Briana Evigan, Cassie Ventura,...  2008   \n",
       "999   Adam Pally, T.J. Miller, Thomas Middleditch,Sh...  2014   \n",
       "1000  Kevin Spacey, Jennifer Garner, Robbie Amell,Ch...  2016   \n",
       "\n",
       "      Runtime (Minutes)  Rating  Votes  Revenue (Millions)  Metascore  \n",
       "Rank                                                                   \n",
       "998                  98     6.2  70699               58.01       50.0  \n",
       "999                  93     5.6   4881                 NaN       22.0  \n",
       "1000                 87     5.3  12435               19.64       11.0  "
      ]
     },
     "execution_count": 4,
     "metadata": {},
     "output_type": "execute_result"
    }
   ],
   "source": [
    "df.tail(3)"
   ]
  },
  {
   "cell_type": "code",
   "execution_count": 5,
   "id": "29b5c0d6",
   "metadata": {},
   "outputs": [
    {
     "name": "stdout",
     "output_type": "stream",
     "text": [
      "Number of rows : 1000\n",
      "Number of columns : 11\n"
     ]
    }
   ],
   "source": [
    "df.shape\n",
    "print(\"Number of rows :\", df.shape[0])\n",
    "print(\"Number of columns :\", df.shape[1])"
   ]
  },
  {
   "cell_type": "code",
   "execution_count": 6,
   "id": "51f435dc",
   "metadata": {
    "scrolled": true
   },
   "outputs": [
    {
     "name": "stdout",
     "output_type": "stream",
     "text": [
      "<class 'pandas.core.frame.DataFrame'>\n",
      "Int64Index: 1000 entries, 1 to 1000\n",
      "Data columns (total 11 columns):\n",
      " #   Column              Non-Null Count  Dtype  \n",
      "---  ------              --------------  -----  \n",
      " 0   Title               1000 non-null   object \n",
      " 1   Genre               1000 non-null   object \n",
      " 2   Description         1000 non-null   object \n",
      " 3   Director            1000 non-null   object \n",
      " 4   Actors              1000 non-null   object \n",
      " 5   Year                1000 non-null   int64  \n",
      " 6   Runtime (Minutes)   1000 non-null   int64  \n",
      " 7   Rating              1000 non-null   float64\n",
      " 8   Votes               1000 non-null   int64  \n",
      " 9   Revenue (Millions)  872 non-null    float64\n",
      " 10  Metascore           936 non-null    float64\n",
      "dtypes: float64(3), int64(3), object(5)\n",
      "memory usage: 93.8+ KB\n"
     ]
    }
   ],
   "source": [
    "df.info()"
   ]
  },
  {
   "cell_type": "markdown",
   "id": "1744eb08",
   "metadata": {},
   "source": [
    "### Missing values"
   ]
  },
  {
   "cell_type": "code",
   "execution_count": 7,
   "id": "63c5f0e2",
   "metadata": {},
   "outputs": [
    {
     "data": {
      "text/plain": [
       "Title                   0\n",
       "Genre                   0\n",
       "Description             0\n",
       "Director                0\n",
       "Actors                  0\n",
       "Year                    0\n",
       "Runtime (Minutes)       0\n",
       "Rating                  0\n",
       "Votes                   0\n",
       "Revenue (Millions)    128\n",
       "Metascore              64\n",
       "dtype: int64"
      ]
     },
     "execution_count": 7,
     "metadata": {},
     "output_type": "execute_result"
    }
   ],
   "source": [
    "df.isna().sum(axis='rows')"
   ]
  },
  {
   "cell_type": "code",
   "execution_count": 8,
   "id": "92a66dc7",
   "metadata": {},
   "outputs": [
    {
     "data": {
      "text/plain": [
       "Rank\n",
       "1       0\n",
       "2       0\n",
       "3       0\n",
       "4       0\n",
       "5       0\n",
       "       ..\n",
       "996     1\n",
       "997     0\n",
       "998     0\n",
       "999     1\n",
       "1000    0\n",
       "Length: 1000, dtype: int64"
      ]
     },
     "execution_count": 8,
     "metadata": {},
     "output_type": "execute_result"
    }
   ],
   "source": [
    "df.isna().sum(axis='columns')"
   ]
  },
  {
   "cell_type": "code",
   "execution_count": 9,
   "id": "c3babc3c",
   "metadata": {},
   "outputs": [
    {
     "data": {
      "text/plain": [
       "192"
      ]
     },
     "execution_count": 9,
     "metadata": {},
     "output_type": "execute_result"
    }
   ],
   "source": [
    "# number of missing values\n",
    "df.isna().sum().sum() "
   ]
  },
  {
   "cell_type": "code",
   "execution_count": 10,
   "id": "04b0e9c9",
   "metadata": {},
   "outputs": [
    {
     "data": {
      "text/plain": [
       "True"
      ]
     },
     "execution_count": 10,
     "metadata": {},
     "output_type": "execute_result"
    }
   ],
   "source": [
    "# boolean of missing values\n",
    "df.isna().any().any() "
   ]
  },
  {
   "cell_type": "code",
   "execution_count": 11,
   "id": "724c3ee5",
   "metadata": {},
   "outputs": [
    {
     "data": {
      "text/plain": [
       "<AxesSubplot: ylabel='Rank'>"
      ]
     },
     "execution_count": 11,
     "metadata": {},
     "output_type": "execute_result"
    },
    {
     "data": {
      "image/png": "[encoded data removed]",
      "text/plain": [
       "<Figure size 640x480 with 2 Axes>"
      ]
     },
     "metadata": {},
     "output_type": "display_data"
    }
   ],
   "source": [
    "sns.heatmap(df.isna())"
   ]
  },
  {
   "cell_type": "code",
   "execution_count": 12,
   "id": "dfe1da87",
   "metadata": {},
   "outputs": [
    {
     "data": {
      "text/plain": [
       "Title                  0.0\n",
       "Genre                  0.0\n",
       "Description            0.0\n",
       "Director               0.0\n",
       "Actors                 0.0\n",
       "Year                   0.0\n",
       "Runtime (Minutes)      0.0\n",
       "Rating                 0.0\n",
       "Votes                  0.0\n",
       "Revenue (Millions)    12.8\n",
       "Metascore              6.4\n",
       "dtype: float64"
      ]
     },
     "execution_count": 12,
     "metadata": {},
     "output_type": "execute_result"
    }
   ],
   "source": [
    "# Percentage of missing value\n",
    "per_missing = df.isna().sum() * 100/len(df)\n",
    "per_missing"
   ]
  },
  {
   "cell_type": "code",
   "execution_count": 13,
   "id": "7b826cff",
   "metadata": {},
   "outputs": [],
   "source": [
    "# Droping missing values\n",
    "df_no_null  = df.dropna(axis=0, how='any', subset=['Revenue (Millions)', 'Metascore'])"
   ]
  },
  {
   "cell_type": "code",
   "execution_count": 14,
   "id": "52c37b4f",
   "metadata": {},
   "outputs": [
    {
     "data": {
      "text/plain": [
       "False"
      ]
     },
     "execution_count": 14,
     "metadata": {},
     "output_type": "execute_result"
    }
   ],
   "source": [
    "df_no_null.isna().sum().any()"
   ]
  },
  {
   "cell_type": "code",
   "execution_count": 15,
   "id": "97c811e5",
   "metadata": {},
   "outputs": [],
   "source": [
    "# looking for duplicate values\n",
    "is_duplicate = df_no_null.duplicated().any()"
   ]
  },
  {
   "cell_type": "code",
   "execution_count": 16,
   "id": "78e04bcc",
   "metadata": {},
   "outputs": [
    {
     "data": {
      "text/plain": [
       "False"
      ]
     },
     "execution_count": 16,
     "metadata": {},
     "output_type": "execute_result"
    }
   ],
   "source": [
    "is_duplicate"
   ]
  },
  {
   "cell_type": "code",
   "execution_count": 17,
   "id": "bbccb11b",
   "metadata": {},
   "outputs": [
    {
     "data": {
      "text/html": [
       "<div>\n",
       "<style scoped>\n",
       "    .dataframe tbody tr th:only-of-type {\n",
       "        vertical-align: middle;\n",
       "    }\n",
       "\n",
       "    .dataframe tbody tr th {\n",
       "        vertical-align: top;\n",
       "    }\n",
       "\n",
       "    .dataframe thead th {\n",
       "        text-align: right;\n",
       "    }\n",
       "</style>\n",
       "<table border=\"1\" class=\"dataframe\">\n",
       "  <thead>\n",
       "    <tr style=\"text-align: right;\">\n",
       "      <th></th>\n",
       "      <th>Year</th>\n",
       "      <th>Runtime (Minutes)</th>\n",
       "      <th>Rating</th>\n",
       "      <th>Votes</th>\n",
       "      <th>Revenue (Millions)</th>\n",
       "      <th>Metascore</th>\n",
       "    </tr>\n",
       "  </thead>\n",
       "  <tbody>\n",
       "    <tr>\n",
       "      <th>count</th>\n",
       "      <td>838.00000</td>\n",
       "      <td>838.000000</td>\n",
       "      <td>838.000000</td>\n",
       "      <td>8.380000e+02</td>\n",
       "      <td>838.000000</td>\n",
       "      <td>838.000000</td>\n",
       "    </tr>\n",
       "    <tr>\n",
       "      <th>mean</th>\n",
       "      <td>2012.50716</td>\n",
       "      <td>114.638425</td>\n",
       "      <td>6.814320</td>\n",
       "      <td>1.932303e+05</td>\n",
       "      <td>84.564558</td>\n",
       "      <td>59.575179</td>\n",
       "    </tr>\n",
       "    <tr>\n",
       "      <th>std</th>\n",
       "      <td>3.17236</td>\n",
       "      <td>18.470922</td>\n",
       "      <td>0.877754</td>\n",
       "      <td>1.930990e+05</td>\n",
       "      <td>104.520227</td>\n",
       "      <td>16.952416</td>\n",
       "    </tr>\n",
       "    <tr>\n",
       "      <th>min</th>\n",
       "      <td>2006.00000</td>\n",
       "      <td>66.000000</td>\n",
       "      <td>1.900000</td>\n",
       "      <td>1.780000e+02</td>\n",
       "      <td>0.000000</td>\n",
       "      <td>11.000000</td>\n",
       "    </tr>\n",
       "    <tr>\n",
       "      <th>25%</th>\n",
       "      <td>2010.00000</td>\n",
       "      <td>101.000000</td>\n",
       "      <td>6.300000</td>\n",
       "      <td>6.127650e+04</td>\n",
       "      <td>13.967500</td>\n",
       "      <td>47.000000</td>\n",
       "    </tr>\n",
       "    <tr>\n",
       "      <th>50%</th>\n",
       "      <td>2013.00000</td>\n",
       "      <td>112.000000</td>\n",
       "      <td>6.900000</td>\n",
       "      <td>1.368795e+05</td>\n",
       "      <td>48.150000</td>\n",
       "      <td>60.000000</td>\n",
       "    </tr>\n",
       "    <tr>\n",
       "      <th>75%</th>\n",
       "      <td>2015.00000</td>\n",
       "      <td>124.000000</td>\n",
       "      <td>7.500000</td>\n",
       "      <td>2.710830e+05</td>\n",
       "      <td>116.800000</td>\n",
       "      <td>72.000000</td>\n",
       "    </tr>\n",
       "    <tr>\n",
       "      <th>max</th>\n",
       "      <td>2016.00000</td>\n",
       "      <td>187.000000</td>\n",
       "      <td>9.000000</td>\n",
       "      <td>1.791916e+06</td>\n",
       "      <td>936.630000</td>\n",
       "      <td>100.000000</td>\n",
       "    </tr>\n",
       "  </tbody>\n",
       "</table>\n",
       "</div>"
      ],
      "text/plain": [
       "             Year  Runtime (Minutes)      Rating         Votes  \\\n",
       "count   838.00000         838.000000  838.000000  8.380000e+02   \n",
       "mean   2012.50716         114.638425    6.814320  1.932303e+05   \n",
       "std       3.17236          18.470922    0.877754  1.930990e+05   \n",
       "min    2006.00000          66.000000    1.900000  1.780000e+02   \n",
       "25%    2010.00000         101.000000    6.300000  6.127650e+04   \n",
       "50%    2013.00000         112.000000    6.900000  1.368795e+05   \n",
       "75%    2015.00000         124.000000    7.500000  2.710830e+05   \n",
       "max    2016.00000         187.000000    9.000000  1.791916e+06   \n",
       "\n",
       "       Revenue (Millions)   Metascore  \n",
       "count          838.000000  838.000000  \n",
       "mean            84.564558   59.575179  \n",
       "std            104.520227   16.952416  \n",
       "min              0.000000   11.000000  \n",
       "25%             13.967500   47.000000  \n",
       "50%             48.150000   60.000000  \n",
       "75%            116.800000   72.000000  \n",
       "max            936.630000  100.000000  "
      ]
     },
     "execution_count": 17,
     "metadata": {},
     "output_type": "execute_result"
    }
   ],
   "source": [
    "df_no_null.describe()"
   ]
  },
  {
   "cell_type": "markdown",
   "id": "e7693d8f",
   "metadata": {},
   "source": [
    "### Outliers"
   ]
  },
  {
   "cell_type": "code",
   "execution_count": 18,
   "id": "06858f00",
   "metadata": {},
   "outputs": [],
   "source": [
    "# Select only the numerical columns from the dataset\n",
    "numerical_data = df_no_null[['Runtime (Minutes)', 'Rating', 'Votes', 'Revenue (Millions)', 'Metascore']]"
   ]
  },
  {
   "cell_type": "code",
   "execution_count": 19,
   "id": "cf159d98",
   "metadata": {},
   "outputs": [
    {
     "data": {
      "image/png": "[encoded data removed]",
      "text/plain": [
       "<Figure size 640x480 with 1 Axes>"
      ]
     },
     "metadata": {},
     "output_type": "display_data"
    },
    {
     "data": {
      "image/png": "[encoded data removed]",
      "text/plain": [
       "<Figure size 640x480 with 1 Axes>"
      ]
     },
     "metadata": {},
     "output_type": "display_data"
    },
    {
     "data": {
      "image/png": "[encoded data removed]",
      "text/plain": [
       "<Figure size 640x480 with 1 Axes>"
      ]
     },
     "metadata": {},
     "output_type": "display_data"
    },
    {
     "data": {
      "image/png": "[encoded data removed]",
      "text/plain": [
       "<Figure size 640x480 with 1 Axes>"
      ]
     },
     "metadata": {},
     "output_type": "display_data"
    },
    {
     "data": {
      "image/png": "[encoded data removed]",
      "text/plain": [
       "<Figure size 640x480 with 1 Axes>"
      ]
     },
     "metadata": {},
     "output_type": "display_data"
    }
   ],
   "source": [
    "# Create the boxplot\n",
    "for feature in numerical_data:\n",
    "    sns.boxplot(x=feature, data = df_no_null)\n",
    "    plt.show()"
   ]
  },
  {
   "cell_type": "code",
   "execution_count": 20,
   "id": "c3de1a3e",
   "metadata": {},
   "outputs": [
    {
     "name": "stderr",
     "output_type": "stream",
     "text": [
      "C:\\Users\\aswan\\AppData\\Local\\Temp\\ipykernel_14324\\1131098645.py:13: SettingWithCopyWarning: \n",
      "A value is trying to be set on a copy of a slice from a DataFrame.\n",
      "Try using .loc[row_indexer,col_indexer] = value instead\n",
      "\n",
      "See the caveats in the documentation: https://pandas.pydata.org/pandas-docs/stable/user_guide/indexing.html#returning-a-view-versus-a-copy\n",
      "  df_no_null[col] = np.where(df_no_null[col] < lower_bound, lower_bound, df_no_null[col])\n",
      "C:\\Users\\aswan\\AppData\\Local\\Temp\\ipykernel_14324\\1131098645.py:16: SettingWithCopyWarning: \n",
      "A value is trying to be set on a copy of a slice from a DataFrame.\n",
      "Try using .loc[row_indexer,col_indexer] = value instead\n",
      "\n",
      "See the caveats in the documentation: https://pandas.pydata.org/pandas-docs/stable/user_guide/indexing.html#returning-a-view-versus-a-copy\n",
      "  df_no_null[col] = np.where(df_no_null[col] > upper_bound, upper_bound, df_no_null[col])\n"
     ]
    }
   ],
   "source": [
    "# Finding outliers using IQR\n",
    "for col in numerical_data:\n",
    "    Q1 = np.quantile(df_no_null[col], 0.25)\n",
    "    Q3 = np.quantile(df_no_null[col], 0.75)\n",
    "\n",
    "    # Calculate IQR\n",
    "    IQR = Q3 - Q1\n",
    "    # Set the lower and upper bounds using the IQR rule\n",
    "    lower_bound = Q1 - 1.5 * IQR\n",
    "    upper_bound = Q3 + 1.5 * IQR\n",
    "\n",
    "    # Replace outliers with lower bound\n",
    "    df_no_null[col] = np.where(df_no_null[col] < lower_bound, lower_bound, df_no_null[col])\n",
    "\n",
    "    # Replace outliers with upper bound\n",
    "    df_no_null[col] = np.where(df_no_null[col] > upper_bound, upper_bound, df_no_null[col])"
   ]
  },
  {
   "cell_type": "code",
   "execution_count": 23,
   "id": "94657cbf",
   "metadata": {},
   "outputs": [
    {
     "data": {
      "image/png": "[encoded data removed]",
      "text/plain": [
       "<Figure size 640x480 with 1 Axes>"
      ]
     },
     "metadata": {},
     "output_type": "display_data"
    },
    {
     "data": {
      "image/png": "[encoded data removed]",
      "text/plain": [
       "<Figure size 640x480 with 1 Axes>"
      ]
     },
     "metadata": {},
     "output_type": "display_data"
    },
    {
     "data": {
      "image/png": "[encoded data removed]",
      "text/plain": [
       "<Figure size 640x480 with 1 Axes>"
      ]
     },
     "metadata": {},
     "output_type": "display_data"
    },
    {
     "data": {
      "image/png": "[encoded data removed]",
      "text/plain": [
       "<Figure size 640x480 with 1 Axes>"
      ]
     },
     "metadata": {},
     "output_type": "display_data"
    },
    {
     "data": {
      "image/png": "[encoded data removed]",
      "text/plain": [
       "<Figure size 640x480 with 1 Axes>"
      ]
     },
     "metadata": {},
     "output_type": "display_data"
    }
   ],
   "source": [
    "# Create the boxplot\n",
    "for feature in numerical_data:\n",
    "    sns.boxplot(x=feature, data = df_no_null)\n",
    "    plt.show()"
   ]
  },
  {
   "cell_type": "code",
   "execution_count": 26,
   "id": "68f368de",
   "metadata": {},
   "outputs": [],
   "source": [
    "df_no_null.to_csv('imdb_data_cleaned.csv', index=False)"
   ]
  },
  {
   "cell_type": "code",
   "execution_count": null,
   "id": "065c8f17",
   "metadata": {},
   "outputs": [],
   "source": [
    "df.columns"
   ]
  },
  {
   "cell_type": "code",
   "execution_count": 29,
   "id": "c9814788",
   "metadata": {},
   "outputs": [],
   "source": [
    "filt = df['Runtime (Minutes)'] >= 180"
   ]
  },
  {
   "cell_type": "code",
   "execution_count": 30,
   "id": "a006a6fe",
   "metadata": {},
   "outputs": [
    {
     "data": {
      "text/plain": [
       "Series([], Name: Title, dtype: object)"
      ]
     },
     "execution_count": 30,
     "metadata": {},
     "output_type": "execute_result"
    }
   ],
   "source": [
    "df[filt][ 'Title']"
   ]
  },
  {
   "cell_type": "code",
   "execution_count": 31,
   "id": "978beafa",
   "metadata": {},
   "outputs": [
    {
     "data": {
      "text/plain": [
       "Series([], Name: Title, dtype: object)"
      ]
     },
     "execution_count": 31,
     "metadata": {},
     "output_type": "execute_result"
    }
   ],
   "source": [
    "df.loc[filt, 'Title']"
   ]
  },
  {
   "cell_type": "code",
   "execution_count": null,
   "id": "ad7c040d",
   "metadata": {},
   "outputs": [],
   "source": [
    "df.columns"
   ]
  },
  {
   "cell_type": "code",
   "execution_count": 32,
   "id": "96ee7bbb",
   "metadata": {},
   "outputs": [],
   "source": [
    "year_group = df.groupby(['Year'])['Votes'].mean().sort_values(ascending=False)"
   ]
  },
  {
   "cell_type": "code",
   "execution_count": 33,
   "id": "89a5a44c",
   "metadata": {},
   "outputs": [
    {
     "data": {
      "text/plain": [
       "Year\n",
       "2007    264837.676136\n",
       "Name: Votes, dtype: float64"
      ]
     },
     "execution_count": 33,
     "metadata": {},
     "output_type": "execute_result"
    }
   ],
   "source": [
    "year_group.head(1)"
   ]
  },
  {
   "cell_type": "code",
   "execution_count": null,
   "id": "76281ea0",
   "metadata": {},
   "outputs": [],
   "source": [
    "sns.barplot(x='Year', y='Votes', data=df)\n",
    "plt.title(\"Votes per year\")"
   ]
  },
  {
   "cell_type": "code",
   "execution_count": null,
   "id": "1db9cc92",
   "metadata": {},
   "outputs": [],
   "source": [
    "df.columns"
   ]
  },
  {
   "cell_type": "code",
   "execution_count": null,
   "id": "2ea46489",
   "metadata": {},
   "outputs": [],
   "source": [
    "group_rev = df.groupby('Year')['Revenue (Millions)'].mean().sort_values(ascending=False).head(1)"
   ]
  },
  {
   "cell_type": "code",
   "execution_count": null,
   "id": "c27ed194",
   "metadata": {},
   "outputs": [],
   "source": [
    "group_rev"
   ]
  },
  {
   "cell_type": "code",
   "execution_count": null,
   "id": "a0054102",
   "metadata": {},
   "outputs": [],
   "source": [
    "sns.barplot(x='Year', y='Revenue (Millions)', data=df)\n",
    "plt.title('Average revenue per year')"
   ]
  },
  {
   "cell_type": "code",
   "execution_count": null,
   "id": "00ee3dc9",
   "metadata": {},
   "outputs": [],
   "source": [
    "plt.bar('Year', 'Revenue (Millions)', data=df)\n",
    "plt.xlabel('Revenue')\n",
    "plt.ylabel('Year')\n",
    "plt.title('Average revenue per year')"
   ]
  },
  {
   "cell_type": "code",
   "execution_count": null,
   "id": "a31bb476",
   "metadata": {},
   "outputs": [],
   "source": [
    "df.columns"
   ]
  },
  {
   "cell_type": "code",
   "execution_count": null,
   "id": "41c7a1f3",
   "metadata": {},
   "outputs": [],
   "source": [
    "direct_group = df.groupby('Director')['Rating'].mean().sort_values(ascending=False).head(1)"
   ]
  },
  {
   "cell_type": "code",
   "execution_count": null,
   "id": "00564e95",
   "metadata": {},
   "outputs": [],
   "source": [
    "direct_group"
   ]
  },
  {
   "cell_type": "code",
   "execution_count": null,
   "id": "1304882c",
   "metadata": {},
   "outputs": [],
   "source": [
    "df.columns"
   ]
  },
  {
   "cell_type": "code",
   "execution_count": null,
   "id": "7b73f113",
   "metadata": {},
   "outputs": [],
   "source": [
    "df[['Title', 'Runtime (Minutes)']].sort_values(by='Runtime (Minutes)', ascending=False).set_index('Title').head(10)"
   ]
  },
  {
   "cell_type": "code",
   "execution_count": null,
   "id": "cb5ee671",
   "metadata": {},
   "outputs": [],
   "source": [
    "top10_lenthy_movies = df.nlargest(10, columns= 'Runtime (Minutes)')[['Title', 'Runtime (Minutes)']].set_index('Title')"
   ]
  },
  {
   "cell_type": "code",
   "execution_count": null,
   "id": "72777c8d",
   "metadata": {},
   "outputs": [],
   "source": [
    "top10_lenthy_movies"
   ]
  },
  {
   "cell_type": "code",
   "execution_count": null,
   "id": "ac136cbe",
   "metadata": {},
   "outputs": [],
   "source": [
    "sns.barplot(x=top10_lenthy_movies['Runtime (Minutes)'], y=top10_lenthy_movies.index, data=top10_lenthy_movies)"
   ]
  },
  {
   "cell_type": "code",
   "execution_count": null,
   "id": "108c2ef8",
   "metadata": {},
   "outputs": [],
   "source": [
    "df.columns"
   ]
  },
  {
   "cell_type": "code",
   "execution_count": null,
   "id": "332b8a24",
   "metadata": {},
   "outputs": [],
   "source": [
    "group_movies_by_year = df.groupby('Year')['Title'].count()"
   ]
  },
  {
   "cell_type": "code",
   "execution_count": null,
   "id": "166e2b32",
   "metadata": {},
   "outputs": [],
   "source": [
    "group_movies_by_year"
   ]
  },
  {
   "cell_type": "code",
   "execution_count": null,
   "id": "18f75894",
   "metadata": {},
   "outputs": [],
   "source": [
    "df['Year'].value_counts()"
   ]
  },
  {
   "cell_type": "code",
   "execution_count": null,
   "id": "bb2a004d",
   "metadata": {},
   "outputs": [],
   "source": [
    "sns.displot(df['Year'],kde=True)"
   ]
  },
  {
   "cell_type": "code",
   "execution_count": null,
   "id": "0d1709c5",
   "metadata": {},
   "outputs": [],
   "source": [
    "sns.countplot(data=df, x='Year')\n",
    "plt.title(\"Number of movies per Year\")\n",
    "plt.show()"
   ]
  },
  {
   "cell_type": "code",
   "execution_count": null,
   "id": "b76ca1ff",
   "metadata": {},
   "outputs": [],
   "source": [
    "df.columns"
   ]
  },
  {
   "cell_type": "code",
   "execution_count": null,
   "id": "42123fe6",
   "metadata": {},
   "outputs": [],
   "source": [
    "df.nlargest(1, 'Revenue (Millions)')['Title']"
   ]
  },
  {
   "cell_type": "code",
   "execution_count": null,
   "id": "2139ec4a",
   "metadata": {},
   "outputs": [],
   "source": [
    "highest_revenue = (df['Revenue (Millions)'].max() == df['Revenue (Millions)'])"
   ]
  },
  {
   "cell_type": "code",
   "execution_count": null,
   "id": "65a04432",
   "metadata": {},
   "outputs": [],
   "source": [
    "df[highest_revenue]['Title']"
   ]
  },
  {
   "cell_type": "code",
   "execution_count": null,
   "id": "26334ecc",
   "metadata": {},
   "outputs": [],
   "source": [
    "df.columns"
   ]
  },
  {
   "cell_type": "code",
   "execution_count": null,
   "id": "94657290",
   "metadata": {},
   "outputs": [],
   "source": [
    "top_10_movies = df.nlargest(10, 'Rating')[['Title', 'Rating', 'Director']].set_index('Title')"
   ]
  },
  {
   "cell_type": "code",
   "execution_count": null,
   "id": "cda7e28c",
   "metadata": {},
   "outputs": [],
   "source": [
    "top_10_movies"
   ]
  },
  {
   "cell_type": "code",
   "execution_count": null,
   "id": "605cd3d8",
   "metadata": {},
   "outputs": [],
   "source": [
    "sns.barplot(x='Rating', y=top_10_movies.index, data= top_10_movies, hue='Director', dodge= False)\n",
    "plt.legend(bbox_to_anchor=(1, .6), loc=2)"
   ]
  },
  {
   "cell_type": "code",
   "execution_count": null,
   "id": "2a29bc54",
   "metadata": {},
   "outputs": [],
   "source": [
    "df.columns"
   ]
  },
  {
   "cell_type": "code",
   "execution_count": null,
   "id": "ebf987e9",
   "metadata": {},
   "outputs": [],
   "source": [
    "top10_highest_revenue = df.nlargest(10, 'Revenue (Millions)')[['Title', 'Revenue (Millions)']].set_index('Title')"
   ]
  },
  {
   "cell_type": "code",
   "execution_count": null,
   "id": "983bf88a",
   "metadata": {},
   "outputs": [],
   "source": [
    "top10_highest_revenue"
   ]
  },
  {
   "cell_type": "code",
   "execution_count": null,
   "id": "39b28649",
   "metadata": {},
   "outputs": [],
   "source": [
    "sns.barplot(x='Revenue (Millions)', y=top10_highest_revenue.index, data=top10_highest_revenue)\n",
    "plt.title('Top 10 Highest gross movies')\n",
    "plt.show()"
   ]
  },
  {
   "cell_type": "code",
   "execution_count": null,
   "id": "9f007c4e",
   "metadata": {},
   "outputs": [],
   "source": [
    "df.columns"
   ]
  },
  {
   "cell_type": "code",
   "execution_count": null,
   "id": "0221d448",
   "metadata": {},
   "outputs": [],
   "source": [
    "group_by_year = df.groupby('Year')['Rating'].mean().sort_values(ascending=False)"
   ]
  },
  {
   "cell_type": "code",
   "execution_count": null,
   "id": "c2350963",
   "metadata": {},
   "outputs": [],
   "source": [
    "group_by_year"
   ]
  },
  {
   "cell_type": "code",
   "execution_count": null,
   "id": "ba189fb8",
   "metadata": {},
   "outputs": [],
   "source": [
    "df.columns"
   ]
  },
  {
   "cell_type": "code",
   "execution_count": null,
   "id": "e407ca7d",
   "metadata": {},
   "outputs": [],
   "source": [
    "sns.scatterplot(x='Rating', y='Revenue (Millions)', data=df, color='g')"
   ]
  },
  {
   "cell_type": "code",
   "execution_count": null,
   "id": "b4e934a4",
   "metadata": {},
   "outputs": [],
   "source": [
    "df.columns\n"
   ]
  },
  {
   "cell_type": "code",
   "execution_count": null,
   "id": "73084808",
   "metadata": {},
   "outputs": [],
   "source": [
    "def rating(rating):\n",
    "    if rating >= 7.5:\n",
    "        return 'Excellent'\n",
    "\n",
    "    elif rating >= 6.0:\n",
    "        return 'Good'\n",
    "    else:\n",
    "        return 'average'\n",
    "    "
   ]
  },
  {
   "cell_type": "code",
   "execution_count": null,
   "id": "5303c220",
   "metadata": {},
   "outputs": [],
   "source": [
    "df['Rating_cat'] = df[\"Rating\"].apply(rating)"
   ]
  },
  {
   "cell_type": "code",
   "execution_count": null,
   "id": "c14e5f37",
   "metadata": {},
   "outputs": [],
   "source": [
    "df.head()"
   ]
  },
  {
   "cell_type": "code",
   "execution_count": null,
   "id": "079d4373",
   "metadata": {},
   "outputs": [],
   "source": [
    "df.columns"
   ]
  },
  {
   "cell_type": "code",
   "execution_count": null,
   "id": "a36858bb",
   "metadata": {},
   "outputs": [],
   "source": [
    "df['Genre']"
   ]
  },
  {
   "cell_type": "code",
   "execution_count": null,
   "id": "69dd01a8",
   "metadata": {},
   "outputs": [],
   "source": [
    "filt = df['Genre'].str.contains('Action', case=False, na=False)"
   ]
  },
  {
   "cell_type": "code",
   "execution_count": null,
   "id": "fd52cc6b",
   "metadata": {},
   "outputs": [],
   "source": [
    "len(df[filt])"
   ]
  },
  {
   "cell_type": "code",
   "execution_count": null,
   "id": "121c002b",
   "metadata": {},
   "outputs": [],
   "source": [
    "df.columns"
   ]
  },
  {
   "cell_type": "code",
   "execution_count": null,
   "id": "cd03058b",
   "metadata": {},
   "outputs": [],
   "source": [
    "glist = []\n",
    "for value in df['Genre']:\n",
    "    glist.append(value.split(','))"
   ]
  },
  {
   "cell_type": "code",
   "execution_count": null,
   "id": "0a2c4a4e",
   "metadata": {},
   "outputs": [],
   "source": [
    "glist"
   ]
  },
  {
   "cell_type": "code",
   "execution_count": null,
   "id": "b4c0051f",
   "metadata": {},
   "outputs": [],
   "source": [
    "genre_list = []\n",
    "\n",
    "for item in glist:\n",
    "    for item1 in item:\n",
    "        if item1 not in genre_list:\n",
    "            genre_list.append(item1)"
   ]
  },
  {
   "cell_type": "code",
   "execution_count": null,
   "id": "eb281557",
   "metadata": {},
   "outputs": [],
   "source": [
    "genre_list"
   ]
  },
  {
   "cell_type": "code",
   "execution_count": null,
   "id": "83379276",
   "metadata": {},
   "outputs": [],
   "source": [
    "len(genre_list)"
   ]
  },
  {
   "cell_type": "code",
   "execution_count": null,
   "id": "72766798",
   "metadata": {},
   "outputs": [],
   "source": [
    "one_d = []\n",
    "\n",
    "for item in glist:\n",
    "    for item1 in item:\n",
    "        one_d.append(item1)"
   ]
  },
  {
   "cell_type": "code",
   "execution_count": null,
   "id": "29953f7e",
   "metadata": {},
   "outputs": [],
   "source": [
    "one_d"
   ]
  },
  {
   "cell_type": "code",
   "execution_count": null,
   "id": "d45c17d7",
   "metadata": {},
   "outputs": [],
   "source": [
    "from collections import Counter"
   ]
  },
  {
   "cell_type": "code",
   "execution_count": null,
   "id": "39924c4c",
   "metadata": {},
   "outputs": [],
   "source": [
    "Counter(one_d)"
   ]
  },
  {
   "cell_type": "code",
   "execution_count": null,
   "id": "229c31db",
   "metadata": {},
   "outputs": [],
   "source": [
    "df.columns\n"
   ]
  },
  {
   "cell_type": "code",
   "execution_count": null,
   "id": "ee5311d2",
   "metadata": {},
   "outputs": [],
   "source": [
    "plt.scatter(df['Rating'], df['Revenue (Millions)'])\n",
    "plt.xlabel('Rating of the movies')\n",
    "plt.ylabel('Revenue of the movies')\n",
    "plt.show()"
   ]
  },
  {
   "cell_type": "code",
   "execution_count": null,
   "id": "6ab96748",
   "metadata": {},
   "outputs": [],
   "source": [
    "plt.scatter(df['Runtime (Minutes)'], df['Revenue (Millions)'])\n",
    "plt.xlabel('Runtime of the movies')\n",
    "plt.ylabel('Revenue of the movies')\n",
    "plt.show()"
   ]
  },
  {
   "cell_type": "code",
   "execution_count": null,
   "id": "95f0ec2f",
   "metadata": {},
   "outputs": [],
   "source": [
    "plt.scatter(df['Votes'], df['Rating'])\n",
    "plt.xlabel('Votes for the movies')\n",
    "plt.ylabel('Rating of the movies')\n",
    "plt.show()"
   ]
  },
  {
   "cell_type": "code",
   "execution_count": null,
   "id": "65e0ecac",
   "metadata": {},
   "outputs": [],
   "source": [
    "df.columns"
   ]
  },
  {
   "cell_type": "code",
   "execution_count": null,
   "id": "161fe35f",
   "metadata": {},
   "outputs": [],
   "source": [
    "lddf.dropna(inplace=True)"
   ]
  },
  {
   "cell_type": "code",
   "execution_count": null,
   "id": "59bee905",
   "metadata": {},
   "outputs": [],
   "source": [
    "df.isna().any().any()"
   ]
  },
  {
   "cell_type": "code",
   "execution_count": null,
   "id": "850afc7b",
   "metadata": {},
   "outputs": [],
   "source": [
    "y = df['Revenue (Millions)'] "
   ]
  },
  {
   "cell_type": "code",
   "execution_count": null,
   "id": "89209f64",
   "metadata": {},
   "outputs": [],
   "source": [
    "df['Director'] = pd.factorize(df['Director'])[0]"
   ]
  },
  {
   "cell_type": "code",
   "execution_count": null,
   "id": "61cc4c45",
   "metadata": {},
   "outputs": [],
   "source": [
    "df['Director']"
   ]
  },
  {
   "cell_type": "code",
   "execution_count": null,
   "id": "f416e057",
   "metadata": {},
   "outputs": [],
   "source": [
    "y.isna().any()"
   ]
  },
  {
   "cell_type": "code",
   "execution_count": null,
   "id": "019dc72d",
   "metadata": {},
   "outputs": [],
   "source": [
    "X = df[['Director', 'Runtime (Minutes)', 'Rating', 'Votes', 'Metascore']]"
   ]
  },
  {
   "cell_type": "code",
   "execution_count": null,
   "id": "947cd252",
   "metadata": {},
   "outputs": [],
   "source": [
    "X.info()"
   ]
  },
  {
   "cell_type": "code",
   "execution_count": null,
   "id": "70070b3a",
   "metadata": {},
   "outputs": [],
   "source": [
    "from sklearn.model_selection import train_test_split"
   ]
  },
  {
   "cell_type": "code",
   "execution_count": null,
   "id": "2e4b2994",
   "metadata": {},
   "outputs": [],
   "source": [
    "X_train, X_test, y_train, y_test = train_test_split(X, y, random_state = 0)"
   ]
  },
  {
   "cell_type": "code",
   "execution_count": null,
   "id": "8205f9d2",
   "metadata": {},
   "outputs": [],
   "source": [
    "from sklearn.ensemble import RandomForestRegressor"
   ]
  },
  {
   "cell_type": "code",
   "execution_count": null,
   "id": "7f137de8",
   "metadata": {},
   "outputs": [],
   "source": [
    "forest_model = RandomForestRegressor(random_state = 0)\n",
    "forest_model.fit(X_train, y_train)\n",
    "forest_pred = forest_model.predict(X_test)"
   ]
  },
  {
   "cell_type": "code",
   "execution_count": null,
   "id": "5c23c715",
   "metadata": {},
   "outputs": [],
   "source": [
    "from sklearn.metrics import mean_absolute_error"
   ]
  },
  {
   "cell_type": "code",
   "execution_count": null,
   "id": "03ab2901",
   "metadata": {},
   "outputs": [],
   "source": [
    "print(mean_absolute_error(y_test, forest_pred))"
   ]
  },
  {
   "cell_type": "code",
   "execution_count": null,
   "id": "d09d32c8",
   "metadata": {},
   "outputs": [],
   "source": []
  }
 ],
 "metadata": {
  "kernelspec": {
   "display_name": "bobbykernal",
   "language": "python",
   "name": "bobbykernal"
  },
  "language_info": {
   "codemirror_mode": {
    "name": "ipython",
    "version": 3
   },
   "file_extension": ".py",
   "mimetype": "text/x-python",
   "name": "python",
   "nbconvert_exporter": "python",
   "pygments_lexer": "ipython3",
   "version": "3.10.6"
  }
 },
 "nbformat": 4,
 "nbformat_minor": 5
}
