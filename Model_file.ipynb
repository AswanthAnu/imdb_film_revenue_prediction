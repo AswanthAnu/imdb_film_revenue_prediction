{
 "cells": [
  {
   "cell_type": "code",
   "execution_count": 1,
   "id": "fd0350f7",
   "metadata": {},
   "outputs": [],
   "source": [
    "import pandas as pd \n",
    "import numpy as np\n",
    "import warnings\n",
    "warnings.filterwarnings('ignore')"
   ]
  },
  {
   "cell_type": "code",
   "execution_count": 2,
   "id": "d0c1def3",
   "metadata": {},
   "outputs": [],
   "source": [
    "df = pd.read_csv('imdb_numeric_format.csv')"
   ]
  },
  {
   "cell_type": "code",
   "execution_count": 3,
   "id": "f1c1c9f7",
   "metadata": {},
   "outputs": [
    {
     "data": {
      "text/html": [
       "<div>\n",
       "<style scoped>\n",
       "    .dataframe tbody tr th:only-of-type {\n",
       "        vertical-align: middle;\n",
       "    }\n",
       "\n",
       "    .dataframe tbody tr th {\n",
       "        vertical-align: top;\n",
       "    }\n",
       "\n",
       "    .dataframe thead th {\n",
       "        text-align: right;\n",
       "    }\n",
       "</style>\n",
       "<table border=\"1\" class=\"dataframe\">\n",
       "  <thead>\n",
       "    <tr style=\"text-align: right;\">\n",
       "      <th></th>\n",
       "      <th>Year</th>\n",
       "      <th>Runtime (Minutes)</th>\n",
       "      <th>Rating</th>\n",
       "      <th>Votes</th>\n",
       "      <th>Revenue (Millions)</th>\n",
       "      <th>Metascore</th>\n",
       "      <th>Action</th>\n",
       "      <th>Adventure</th>\n",
       "      <th>Sci-Fi</th>\n",
       "      <th>Mystery</th>\n",
       "      <th>...</th>\n",
       "      <th>Director_William Brent Bell</th>\n",
       "      <th>Director_Woody Allen</th>\n",
       "      <th>Director_Xavier Dolan</th>\n",
       "      <th>Director_Yimou Zhang</th>\n",
       "      <th>Director_Yorgos Lanthimos</th>\n",
       "      <th>Director_Zack Snyder</th>\n",
       "      <th>Director_Zackary Adler</th>\n",
       "      <th>Rating_cat_Excellent</th>\n",
       "      <th>Rating_cat_Good</th>\n",
       "      <th>Rating_cat_average</th>\n",
       "    </tr>\n",
       "  </thead>\n",
       "  <tbody>\n",
       "    <tr>\n",
       "      <th>0</th>\n",
       "      <td>2014</td>\n",
       "      <td>121.0</td>\n",
       "      <td>8.1</td>\n",
       "      <td>585792.75</td>\n",
       "      <td>271.04875</td>\n",
       "      <td>76.0</td>\n",
       "      <td>1</td>\n",
       "      <td>1</td>\n",
       "      <td>1</td>\n",
       "      <td>0</td>\n",
       "      <td>...</td>\n",
       "      <td>0</td>\n",
       "      <td>0</td>\n",
       "      <td>0</td>\n",
       "      <td>0</td>\n",
       "      <td>0</td>\n",
       "      <td>0</td>\n",
       "      <td>0</td>\n",
       "      <td>1</td>\n",
       "      <td>0</td>\n",
       "      <td>0</td>\n",
       "    </tr>\n",
       "    <tr>\n",
       "      <th>1</th>\n",
       "      <td>2012</td>\n",
       "      <td>124.0</td>\n",
       "      <td>7.0</td>\n",
       "      <td>485820.00</td>\n",
       "      <td>126.46000</td>\n",
       "      <td>65.0</td>\n",
       "      <td>0</td>\n",
       "      <td>1</td>\n",
       "      <td>1</td>\n",
       "      <td>1</td>\n",
       "      <td>...</td>\n",
       "      <td>0</td>\n",
       "      <td>0</td>\n",
       "      <td>0</td>\n",
       "      <td>0</td>\n",
       "      <td>0</td>\n",
       "      <td>0</td>\n",
       "      <td>0</td>\n",
       "      <td>0</td>\n",
       "      <td>1</td>\n",
       "      <td>0</td>\n",
       "    </tr>\n",
       "    <tr>\n",
       "      <th>2</th>\n",
       "      <td>2016</td>\n",
       "      <td>117.0</td>\n",
       "      <td>7.3</td>\n",
       "      <td>157606.00</td>\n",
       "      <td>138.12000</td>\n",
       "      <td>62.0</td>\n",
       "      <td>0</td>\n",
       "      <td>0</td>\n",
       "      <td>0</td>\n",
       "      <td>0</td>\n",
       "      <td>...</td>\n",
       "      <td>0</td>\n",
       "      <td>0</td>\n",
       "      <td>0</td>\n",
       "      <td>0</td>\n",
       "      <td>0</td>\n",
       "      <td>0</td>\n",
       "      <td>0</td>\n",
       "      <td>0</td>\n",
       "      <td>1</td>\n",
       "      <td>0</td>\n",
       "    </tr>\n",
       "    <tr>\n",
       "      <th>3</th>\n",
       "      <td>2016</td>\n",
       "      <td>108.0</td>\n",
       "      <td>7.2</td>\n",
       "      <td>60545.00</td>\n",
       "      <td>270.32000</td>\n",
       "      <td>59.0</td>\n",
       "      <td>0</td>\n",
       "      <td>0</td>\n",
       "      <td>0</td>\n",
       "      <td>0</td>\n",
       "      <td>...</td>\n",
       "      <td>0</td>\n",
       "      <td>0</td>\n",
       "      <td>0</td>\n",
       "      <td>0</td>\n",
       "      <td>0</td>\n",
       "      <td>0</td>\n",
       "      <td>0</td>\n",
       "      <td>0</td>\n",
       "      <td>1</td>\n",
       "      <td>0</td>\n",
       "    </tr>\n",
       "    <tr>\n",
       "      <th>4</th>\n",
       "      <td>2016</td>\n",
       "      <td>123.0</td>\n",
       "      <td>6.2</td>\n",
       "      <td>393727.00</td>\n",
       "      <td>271.04875</td>\n",
       "      <td>40.0</td>\n",
       "      <td>1</td>\n",
       "      <td>1</td>\n",
       "      <td>0</td>\n",
       "      <td>0</td>\n",
       "      <td>...</td>\n",
       "      <td>0</td>\n",
       "      <td>0</td>\n",
       "      <td>0</td>\n",
       "      <td>0</td>\n",
       "      <td>0</td>\n",
       "      <td>0</td>\n",
       "      <td>0</td>\n",
       "      <td>0</td>\n",
       "      <td>1</td>\n",
       "      <td>0</td>\n",
       "    </tr>\n",
       "  </tbody>\n",
       "</table>\n",
       "<p>5 rows × 553 columns</p>\n",
       "</div>"
      ],
      "text/plain": [
       "   Year  Runtime (Minutes)  Rating      Votes  Revenue (Millions)  Metascore  \\\n",
       "0  2014              121.0     8.1  585792.75           271.04875       76.0   \n",
       "1  2012              124.0     7.0  485820.00           126.46000       65.0   \n",
       "2  2016              117.0     7.3  157606.00           138.12000       62.0   \n",
       "3  2016              108.0     7.2   60545.00           270.32000       59.0   \n",
       "4  2016              123.0     6.2  393727.00           271.04875       40.0   \n",
       "\n",
       "   Action  Adventure  Sci-Fi  Mystery  ...  Director_William Brent Bell  \\\n",
       "0       1          1       1        0  ...                            0   \n",
       "1       0          1       1        1  ...                            0   \n",
       "2       0          0       0        0  ...                            0   \n",
       "3       0          0       0        0  ...                            0   \n",
       "4       1          1       0        0  ...                            0   \n",
       "\n",
       "   Director_Woody Allen  Director_Xavier Dolan  Director_Yimou Zhang  \\\n",
       "0                     0                      0                     0   \n",
       "1                     0                      0                     0   \n",
       "2                     0                      0                     0   \n",
       "3                     0                      0                     0   \n",
       "4                     0                      0                     0   \n",
       "\n",
       "   Director_Yorgos Lanthimos  Director_Zack Snyder  Director_Zackary Adler  \\\n",
       "0                          0                     0                       0   \n",
       "1                          0                     0                       0   \n",
       "2                          0                     0                       0   \n",
       "3                          0                     0                       0   \n",
       "4                          0                     0                       0   \n",
       "\n",
       "   Rating_cat_Excellent  Rating_cat_Good  Rating_cat_average  \n",
       "0                     1                0                   0  \n",
       "1                     0                1                   0  \n",
       "2                     0                1                   0  \n",
       "3                     0                1                   0  \n",
       "4                     0                1                   0  \n",
       "\n",
       "[5 rows x 553 columns]"
      ]
     },
     "execution_count": 3,
     "metadata": {},
     "output_type": "execute_result"
    }
   ],
   "source": [
    "df.head()"
   ]
  },
  {
   "cell_type": "code",
   "execution_count": 4,
   "id": "a67848ad",
   "metadata": {},
   "outputs": [],
   "source": [
    "#Separating features and target\n",
    "X = df.drop('Revenue (Millions)', axis=1)\n",
    "y = df['Revenue (Millions)']"
   ]
  },
  {
   "cell_type": "code",
   "execution_count": 5,
   "id": "cd56da2f",
   "metadata": {},
   "outputs": [],
   "source": [
    "#Spliting the dataset into train and test\n",
    "from sklearn.model_selection import train_test_split"
   ]
  },
  {
   "cell_type": "code",
   "execution_count": 6,
   "id": "ab3842bd",
   "metadata": {},
   "outputs": [],
   "source": [
    "X_train, X_test, y_train, y_test = train_test_split(X, y, random_state=42, test_size=0.3)"
   ]
  },
  {
   "cell_type": "code",
   "execution_count": 7,
   "id": "09b142c4",
   "metadata": {},
   "outputs": [
    {
     "data": {
      "text/plain": [
       "array([5.96994783e-02, 1.01800453e-01, 2.85991778e-02, 4.04996022e-01,\n",
       "       0.00000000e+00, 2.33553762e-02, 1.32934968e-01, 2.80422679e-02,\n",
       "       1.59208119e-02, 2.03260692e-02, 0.00000000e+00, 3.62979977e-02,\n",
       "       3.07733511e-03, 3.42796309e-02, 1.04371292e-02, 7.00255439e-02,\n",
       "       1.92071380e-02, 1.04303767e-02, 0.00000000e+00, 0.00000000e+00,\n",
       "       0.00000000e+00, 0.00000000e+00, 1.03188877e-02, 0.00000000e+00,\n",
       "       1.88497579e-03, 6.03220261e-03, 0.00000000e+00, 0.00000000e+00,\n",
       "       0.00000000e+00, 0.00000000e+00, 0.00000000e+00, 4.92455634e-03,\n",
       "       8.41738705e-03, 9.31635579e-03, 3.89076134e-03, 0.00000000e+00,\n",
       "       2.39346934e-03, 2.01914898e-03, 0.00000000e+00, 0.00000000e+00,\n",
       "       0.00000000e+00, 7.88227804e-03, 0.00000000e+00, 0.00000000e+00,\n",
       "       5.54095154e-03, 0.00000000e+00, 2.96769117e-03, 0.00000000e+00,\n",
       "       0.00000000e+00, 0.00000000e+00, 5.31020180e-04, 1.37375012e-03,\n",
       "       2.25882269e-03, 5.16502025e-03, 0.00000000e+00, 7.13016950e-03,\n",
       "       8.06015096e-04, 2.03797449e-03, 0.00000000e+00, 3.17597981e-03,\n",
       "       2.50749561e-03, 0.00000000e+00, 2.08639681e-03, 1.82232596e-03,\n",
       "       0.00000000e+00, 5.95401253e-03, 1.22478644e-02, 6.93644261e-03,\n",
       "       5.32462507e-03, 0.00000000e+00, 0.00000000e+00, 1.87509331e-02,\n",
       "       0.00000000e+00, 1.48099030e-02, 1.17158634e-03, 6.23838438e-03,\n",
       "       0.00000000e+00, 0.00000000e+00, 0.00000000e+00, 2.20970125e-03,\n",
       "       0.00000000e+00, 0.00000000e+00, 0.00000000e+00, 0.00000000e+00,\n",
       "       0.00000000e+00, 3.68172179e-03, 0.00000000e+00, 5.85107122e-03,\n",
       "       0.00000000e+00, 0.00000000e+00, 1.04097442e-02, 0.00000000e+00,\n",
       "       0.00000000e+00, 0.00000000e+00, 0.00000000e+00, 0.00000000e+00,\n",
       "       0.00000000e+00, 0.00000000e+00, 0.00000000e+00, 0.00000000e+00,\n",
       "       1.54395443e-03, 0.00000000e+00, 7.97950370e-04, 8.72080838e-03,\n",
       "       0.00000000e+00, 7.02413988e-03, 0.00000000e+00, 0.00000000e+00,\n",
       "       1.64162664e-03, 0.00000000e+00, 2.05050021e-03, 4.86582897e-03,\n",
       "       0.00000000e+00, 0.00000000e+00, 6.88204178e-03, 2.14954599e-03,\n",
       "       0.00000000e+00, 6.06567231e-03, 0.00000000e+00, 0.00000000e+00,\n",
       "       0.00000000e+00, 3.08737696e-03, 0.00000000e+00, 0.00000000e+00,\n",
       "       0.00000000e+00, 9.76805777e-03, 0.00000000e+00, 5.92216816e-03,\n",
       "       1.67475464e-02, 9.62912349e-03, 0.00000000e+00, 2.62571548e-03,\n",
       "       0.00000000e+00, 9.08892584e-03, 5.20402467e-04, 0.00000000e+00,\n",
       "       1.86987480e-03, 5.19902452e-03, 0.00000000e+00, 0.00000000e+00,\n",
       "       0.00000000e+00, 0.00000000e+00, 0.00000000e+00, 0.00000000e+00,\n",
       "       0.00000000e+00, 0.00000000e+00, 0.00000000e+00, 0.00000000e+00,\n",
       "       2.62927251e-03, 0.00000000e+00, 1.26381810e-02, 6.46664968e-03,\n",
       "       0.00000000e+00, 0.00000000e+00, 0.00000000e+00, 0.00000000e+00,\n",
       "       0.00000000e+00, 0.00000000e+00, 3.31015138e-04, 0.00000000e+00,\n",
       "       4.83251900e-03, 0.00000000e+00, 4.03162414e-03, 3.02979389e-03,\n",
       "       1.66062422e-02, 0.00000000e+00, 0.00000000e+00, 0.00000000e+00,\n",
       "       1.67021794e-02, 0.00000000e+00, 0.00000000e+00, 0.00000000e+00,\n",
       "       0.00000000e+00, 0.00000000e+00, 1.73672166e-03, 0.00000000e+00,\n",
       "       0.00000000e+00, 0.00000000e+00, 0.00000000e+00, 0.00000000e+00,\n",
       "       0.00000000e+00, 8.83914297e-03, 0.00000000e+00, 9.10801084e-06,\n",
       "       0.00000000e+00, 0.00000000e+00, 0.00000000e+00, 4.47004491e-03,\n",
       "       0.00000000e+00, 7.23032974e-03, 4.11215754e-04, 5.60570778e-03,\n",
       "       0.00000000e+00, 0.00000000e+00, 0.00000000e+00, 4.89334218e-03,\n",
       "       7.03923831e-03, 6.05662805e-03, 7.34433942e-03, 0.00000000e+00,\n",
       "       0.00000000e+00, 1.44126095e-02, 6.04679529e-03, 0.00000000e+00,\n",
       "       1.00426652e-02, 7.04454610e-03, 9.37234628e-04, 0.00000000e+00,\n",
       "       1.13884770e-05, 0.00000000e+00, 0.00000000e+00, 2.20015493e-03,\n",
       "       0.00000000e+00, 1.06115488e-02, 7.35435223e-03, 0.00000000e+00,\n",
       "       0.00000000e+00, 0.00000000e+00, 1.19674845e-02, 5.14653025e-03,\n",
       "       4.49593447e-03, 1.15227042e-02, 0.00000000e+00, 4.84617155e-03,\n",
       "       0.00000000e+00, 0.00000000e+00, 6.08947832e-04, 0.00000000e+00,\n",
       "       0.00000000e+00, 0.00000000e+00, 0.00000000e+00, 0.00000000e+00,\n",
       "       2.57472875e-03, 1.45929558e-02, 3.41962568e-03, 7.66756632e-03,\n",
       "       0.00000000e+00, 0.00000000e+00, 4.11821930e-03, 1.91101928e-03,\n",
       "       0.00000000e+00, 1.68894989e-03, 0.00000000e+00, 0.00000000e+00,\n",
       "       5.53831528e-03, 3.49070130e-03, 4.09444592e-04, 0.00000000e+00,\n",
       "       3.62435647e-03, 0.00000000e+00, 1.82686188e-02, 6.06760376e-04,\n",
       "       0.00000000e+00, 0.00000000e+00, 0.00000000e+00, 9.25444950e-04,\n",
       "       1.06539403e-02, 0.00000000e+00, 0.00000000e+00, 9.23464954e-03,\n",
       "       0.00000000e+00, 0.00000000e+00, 0.00000000e+00, 0.00000000e+00,\n",
       "       0.00000000e+00, 0.00000000e+00, 0.00000000e+00, 0.00000000e+00,\n",
       "       1.42228018e-03, 4.65297685e-03, 6.66323819e-04, 0.00000000e+00,\n",
       "       0.00000000e+00, 0.00000000e+00, 1.37408982e-02, 0.00000000e+00,\n",
       "       9.09056950e-03, 7.86448506e-03, 8.71308282e-03, 3.17558659e-03,\n",
       "       7.13770389e-03, 0.00000000e+00, 7.98686954e-03, 0.00000000e+00,\n",
       "       0.00000000e+00, 0.00000000e+00, 3.21373280e-03, 0.00000000e+00,\n",
       "       0.00000000e+00, 0.00000000e+00, 0.00000000e+00, 0.00000000e+00,\n",
       "       0.00000000e+00, 0.00000000e+00, 0.00000000e+00, 1.88404933e-02,\n",
       "       7.39251973e-03, 0.00000000e+00, 0.00000000e+00, 0.00000000e+00,\n",
       "       6.79899737e-04, 0.00000000e+00, 1.06017525e-02, 3.50239534e-03,\n",
       "       3.68753364e-03, 7.45109015e-03, 0.00000000e+00, 2.65694685e-04,\n",
       "       0.00000000e+00, 1.35197444e-02, 0.00000000e+00, 6.58506130e-03,\n",
       "       9.89003851e-04, 0.00000000e+00, 3.64715465e-03, 0.00000000e+00,\n",
       "       3.98769212e-03, 0.00000000e+00, 0.00000000e+00, 1.27986701e-02,\n",
       "       0.00000000e+00, 0.00000000e+00, 6.18862351e-03, 0.00000000e+00,\n",
       "       0.00000000e+00, 0.00000000e+00, 0.00000000e+00, 8.92066039e-03,\n",
       "       5.99873683e-03, 1.03122843e-02, 0.00000000e+00, 0.00000000e+00,\n",
       "       0.00000000e+00, 0.00000000e+00, 0.00000000e+00, 4.63095022e-04,\n",
       "       0.00000000e+00, 0.00000000e+00, 3.05490926e-04, 0.00000000e+00,\n",
       "       9.04546843e-03, 0.00000000e+00, 3.26771377e-04, 0.00000000e+00,\n",
       "       0.00000000e+00, 0.00000000e+00, 0.00000000e+00, 5.26208982e-03,\n",
       "       6.04048715e-03, 1.17986395e-02, 0.00000000e+00, 3.79866439e-03,\n",
       "       0.00000000e+00, 4.94994814e-03, 0.00000000e+00, 1.34502970e-03,\n",
       "       0.00000000e+00, 0.00000000e+00, 0.00000000e+00, 1.37905694e-02,\n",
       "       5.25200931e-03, 7.60656840e-03, 9.49439561e-03, 0.00000000e+00,\n",
       "       7.69096180e-04, 2.36467102e-03, 1.41780856e-02, 7.68732226e-03,\n",
       "       0.00000000e+00, 0.00000000e+00, 2.06914764e-03, 0.00000000e+00,\n",
       "       0.00000000e+00, 0.00000000e+00, 0.00000000e+00, 0.00000000e+00,\n",
       "       0.00000000e+00, 5.69246950e-03, 0.00000000e+00, 1.25991843e-02,\n",
       "       0.00000000e+00, 4.76701950e-03, 1.15669787e-03, 1.99458795e-02,\n",
       "       1.56020470e-02, 0.00000000e+00, 0.00000000e+00, 0.00000000e+00,\n",
       "       0.00000000e+00, 0.00000000e+00, 2.21705944e-03, 0.00000000e+00,\n",
       "       4.37829279e-03, 4.69013972e-03, 0.00000000e+00, 0.00000000e+00,\n",
       "       0.00000000e+00, 1.25327181e-02, 0.00000000e+00, 1.29937771e-03,\n",
       "       0.00000000e+00, 0.00000000e+00, 1.94730138e-03, 1.27247532e-02,\n",
       "       1.03543728e-02, 4.72661174e-03, 0.00000000e+00, 0.00000000e+00,\n",
       "       6.24817174e-03, 1.63052731e-03, 0.00000000e+00, 0.00000000e+00,\n",
       "       1.64554044e-02, 0.00000000e+00, 3.94422120e-03, 2.68977139e-03,\n",
       "       9.31775972e-03, 8.50147217e-03, 0.00000000e+00, 0.00000000e+00,\n",
       "       6.82966294e-03, 8.11710191e-04, 0.00000000e+00, 7.93787354e-03,\n",
       "       3.07505514e-03, 1.36318147e-02, 7.54256635e-03, 0.00000000e+00,\n",
       "       0.00000000e+00, 1.62957955e-03, 0.00000000e+00, 1.69842332e-03,\n",
       "       0.00000000e+00, 0.00000000e+00, 0.00000000e+00, 0.00000000e+00,\n",
       "       1.64778719e-02, 5.55489575e-04, 1.23773847e-03, 2.50634734e-03,\n",
       "       4.55349629e-04, 0.00000000e+00, 3.55369773e-03, 2.86659162e-03,\n",
       "       0.00000000e+00, 0.00000000e+00, 1.15191608e-02, 2.99204410e-03,\n",
       "       1.57382115e-02, 4.96096630e-03, 5.92913587e-04, 0.00000000e+00,\n",
       "       7.99868726e-03, 0.00000000e+00, 8.30511543e-03, 1.27087313e-02,\n",
       "       0.00000000e+00, 0.00000000e+00, 1.11352629e-02, 6.06609890e-03,\n",
       "       6.26943563e-03, 0.00000000e+00, 0.00000000e+00, 0.00000000e+00,\n",
       "       6.89135932e-03, 6.12711049e-03, 0.00000000e+00, 3.06130482e-04,\n",
       "       9.83151713e-03, 0.00000000e+00, 0.00000000e+00, 3.11929976e-03,\n",
       "       0.00000000e+00, 0.00000000e+00, 4.25389003e-03, 1.89710190e-02,\n",
       "       0.00000000e+00, 9.84195739e-03, 0.00000000e+00, 0.00000000e+00,\n",
       "       5.48481066e-03, 0.00000000e+00, 0.00000000e+00, 0.00000000e+00,\n",
       "       0.00000000e+00, 0.00000000e+00, 0.00000000e+00, 1.38458787e-02,\n",
       "       4.77032213e-05, 0.00000000e+00, 0.00000000e+00, 0.00000000e+00,\n",
       "       2.08386222e-03, 0.00000000e+00, 0.00000000e+00, 0.00000000e+00,\n",
       "       0.00000000e+00, 8.87309111e-04, 0.00000000e+00, 2.09658232e-03,\n",
       "       0.00000000e+00, 1.03982793e-02, 1.34497006e-02, 0.00000000e+00,\n",
       "       4.22638646e-03, 1.88194315e-03, 0.00000000e+00, 0.00000000e+00,\n",
       "       0.00000000e+00, 0.00000000e+00, 0.00000000e+00, 5.73229324e-03,\n",
       "       0.00000000e+00, 0.00000000e+00, 7.79901432e-03, 0.00000000e+00,\n",
       "       6.35029273e-04, 4.03792109e-03, 3.10570753e-04, 0.00000000e+00,\n",
       "       0.00000000e+00, 0.00000000e+00, 0.00000000e+00, 0.00000000e+00,\n",
       "       5.26431355e-03, 0.00000000e+00, 2.69750401e-03, 0.00000000e+00,\n",
       "       0.00000000e+00, 0.00000000e+00, 4.09697957e-03, 4.27035927e-03,\n",
       "       1.50200242e-03, 0.00000000e+00, 0.00000000e+00, 0.00000000e+00,\n",
       "       1.00532043e-02, 0.00000000e+00, 2.79473471e-03, 0.00000000e+00,\n",
       "       0.00000000e+00, 1.02074176e-02, 3.74036719e-03, 2.28569454e-03,\n",
       "       6.02882983e-03, 5.89816659e-03, 0.00000000e+00, 3.97092309e-03,\n",
       "       0.00000000e+00, 1.49459174e-02, 2.74435353e-02, 1.74117428e-02])"
      ]
     },
     "execution_count": 7,
     "metadata": {},
     "output_type": "execute_result"
    }
   ],
   "source": [
    "from sklearn.feature_selection import mutual_info_regression\n",
    "# determine the mutual information\n",
    "mutual_info = mutual_info_regression(X_train, y_train)\n",
    "mutual_info"
   ]
  },
  {
   "cell_type": "code",
   "execution_count": 8,
   "id": "316e4939",
   "metadata": {},
   "outputs": [
    {
     "data": {
      "text/plain": [
       "Votes                      0.404996\n",
       "Adventure                  0.132935\n",
       "Runtime (Minutes)          0.101800\n",
       "Drama                      0.070026\n",
       "Year                       0.059699\n",
       "                             ...   \n",
       "Director_Jared Hess        0.000000\n",
       "Director_James Watkins     0.000000\n",
       "Director_James Schamus     0.000000\n",
       "Director_James Ponsoldt    0.000000\n",
       "Director_Jon Watts         0.000000\n",
       "Length: 552, dtype: float64"
      ]
     },
     "execution_count": 8,
     "metadata": {},
     "output_type": "execute_result"
    }
   ],
   "source": [
    "mutual_info = pd.Series(mutual_info)\n",
    "mutual_info.index = X_train.columns\n",
    "mutual_info.sort_values(ascending=False)"
   ]
  },
  {
   "cell_type": "code",
   "execution_count": 9,
   "id": "16a03da2",
   "metadata": {},
   "outputs": [],
   "source": [
    "from sklearn.feature_selection import SelectPercentile"
   ]
  },
  {
   "cell_type": "code",
   "execution_count": 10,
   "id": "2eee33d7",
   "metadata": {},
   "outputs": [
    {
     "data": {
      "text/plain": [
       "Index(['Year', 'Runtime (Minutes)', 'Rating', 'Votes', 'Action', 'Adventure',\n",
       "       'Sci-Fi', 'Mystery', 'Horror', 'Animation',\n",
       "       ...\n",
       "       'Director_Terrence Malick', 'Director_Thor Freudenthal',\n",
       "       'Director_Tim Burton', 'Director_Tom Hooper', 'Director_Will Gluck',\n",
       "       'Director_William Brent Bell', 'Director_Woody Allen',\n",
       "       'Director_Zack Snyder', 'Rating_cat_Excellent', 'Rating_cat_average'],\n",
       "      dtype='object', length=111)"
      ]
     },
     "execution_count": 10,
     "metadata": {},
     "output_type": "execute_result"
    }
   ],
   "source": [
    "## Selecting the top 20 percentile\n",
    "selected_top_columns = SelectPercentile(mutual_info_regression, percentile=20)\n",
    "selected_top_columns.fit(X_train, y_train)\n",
    "X_train.columns[selected_top_columns.get_support()]"
   ]
  },
  {
   "cell_type": "code",
   "execution_count": 11,
   "id": "678e9dcc",
   "metadata": {},
   "outputs": [
    {
     "data": {
      "text/html": [
       "<div>\n",
       "<style scoped>\n",
       "    .dataframe tbody tr th:only-of-type {\n",
       "        vertical-align: middle;\n",
       "    }\n",
       "\n",
       "    .dataframe tbody tr th {\n",
       "        vertical-align: top;\n",
       "    }\n",
       "\n",
       "    .dataframe thead th {\n",
       "        text-align: right;\n",
       "    }\n",
       "</style>\n",
       "<table border=\"1\" class=\"dataframe\">\n",
       "  <thead>\n",
       "    <tr style=\"text-align: right;\">\n",
       "      <th></th>\n",
       "      <th>Year</th>\n",
       "      <th>Runtime (Minutes)</th>\n",
       "      <th>Rating</th>\n",
       "      <th>Votes</th>\n",
       "      <th>Action</th>\n",
       "      <th>Adventure</th>\n",
       "      <th>Sci-Fi</th>\n",
       "      <th>Mystery</th>\n",
       "      <th>Horror</th>\n",
       "      <th>Animation</th>\n",
       "      <th>...</th>\n",
       "      <th>Director_Terrence Malick</th>\n",
       "      <th>Director_Thor Freudenthal</th>\n",
       "      <th>Director_Tim Burton</th>\n",
       "      <th>Director_Tom Hooper</th>\n",
       "      <th>Director_Will Gluck</th>\n",
       "      <th>Director_William Brent Bell</th>\n",
       "      <th>Director_Woody Allen</th>\n",
       "      <th>Director_Zack Snyder</th>\n",
       "      <th>Rating_cat_Excellent</th>\n",
       "      <th>Rating_cat_average</th>\n",
       "    </tr>\n",
       "  </thead>\n",
       "  <tbody>\n",
       "    <tr>\n",
       "      <th>818</th>\n",
       "      <td>2012</td>\n",
       "      <td>123.0</td>\n",
       "      <td>5.9</td>\n",
       "      <td>64513.0</td>\n",
       "      <td>0</td>\n",
       "      <td>0</td>\n",
       "      <td>0</td>\n",
       "      <td>0</td>\n",
       "      <td>0</td>\n",
       "      <td>0</td>\n",
       "      <td>...</td>\n",
       "      <td>0</td>\n",
       "      <td>0</td>\n",
       "      <td>0</td>\n",
       "      <td>0</td>\n",
       "      <td>0</td>\n",
       "      <td>0</td>\n",
       "      <td>0</td>\n",
       "      <td>0</td>\n",
       "      <td>0</td>\n",
       "      <td>1</td>\n",
       "    </tr>\n",
       "    <tr>\n",
       "      <th>234</th>\n",
       "      <td>2014</td>\n",
       "      <td>108.0</td>\n",
       "      <td>6.2</td>\n",
       "      <td>21715.0</td>\n",
       "      <td>0</td>\n",
       "      <td>0</td>\n",
       "      <td>0</td>\n",
       "      <td>0</td>\n",
       "      <td>0</td>\n",
       "      <td>0</td>\n",
       "      <td>...</td>\n",
       "      <td>0</td>\n",
       "      <td>0</td>\n",
       "      <td>0</td>\n",
       "      <td>0</td>\n",
       "      <td>0</td>\n",
       "      <td>0</td>\n",
       "      <td>0</td>\n",
       "      <td>0</td>\n",
       "      <td>0</td>\n",
       "      <td>0</td>\n",
       "    </tr>\n",
       "    <tr>\n",
       "      <th>220</th>\n",
       "      <td>2015</td>\n",
       "      <td>119.0</td>\n",
       "      <td>7.1</td>\n",
       "      <td>188017.0</td>\n",
       "      <td>1</td>\n",
       "      <td>0</td>\n",
       "      <td>0</td>\n",
       "      <td>0</td>\n",
       "      <td>0</td>\n",
       "      <td>0</td>\n",
       "      <td>...</td>\n",
       "      <td>0</td>\n",
       "      <td>0</td>\n",
       "      <td>0</td>\n",
       "      <td>0</td>\n",
       "      <td>0</td>\n",
       "      <td>0</td>\n",
       "      <td>0</td>\n",
       "      <td>0</td>\n",
       "      <td>0</td>\n",
       "      <td>0</td>\n",
       "    </tr>\n",
       "    <tr>\n",
       "      <th>576</th>\n",
       "      <td>2013</td>\n",
       "      <td>129.0</td>\n",
       "      <td>6.5</td>\n",
       "      <td>168875.0</td>\n",
       "      <td>0</td>\n",
       "      <td>0</td>\n",
       "      <td>0</td>\n",
       "      <td>0</td>\n",
       "      <td>0</td>\n",
       "      <td>0</td>\n",
       "      <td>...</td>\n",
       "      <td>0</td>\n",
       "      <td>0</td>\n",
       "      <td>0</td>\n",
       "      <td>0</td>\n",
       "      <td>0</td>\n",
       "      <td>0</td>\n",
       "      <td>0</td>\n",
       "      <td>0</td>\n",
       "      <td>0</td>\n",
       "      <td>0</td>\n",
       "    </tr>\n",
       "    <tr>\n",
       "      <th>334</th>\n",
       "      <td>2016</td>\n",
       "      <td>111.0</td>\n",
       "      <td>6.9</td>\n",
       "      <td>31776.0</td>\n",
       "      <td>0</td>\n",
       "      <td>0</td>\n",
       "      <td>0</td>\n",
       "      <td>0</td>\n",
       "      <td>0</td>\n",
       "      <td>0</td>\n",
       "      <td>...</td>\n",
       "      <td>0</td>\n",
       "      <td>0</td>\n",
       "      <td>0</td>\n",
       "      <td>0</td>\n",
       "      <td>0</td>\n",
       "      <td>0</td>\n",
       "      <td>0</td>\n",
       "      <td>0</td>\n",
       "      <td>0</td>\n",
       "      <td>0</td>\n",
       "    </tr>\n",
       "  </tbody>\n",
       "</table>\n",
       "<p>5 rows × 111 columns</p>\n",
       "</div>"
      ],
      "text/plain": [
       "     Year  Runtime (Minutes)  Rating     Votes  Action  Adventure  Sci-Fi  \\\n",
       "818  2012              123.0     5.9   64513.0       0          0       0   \n",
       "234  2014              108.0     6.2   21715.0       0          0       0   \n",
       "220  2015              119.0     7.1  188017.0       1          0       0   \n",
       "576  2013              129.0     6.5  168875.0       0          0       0   \n",
       "334  2016              111.0     6.9   31776.0       0          0       0   \n",
       "\n",
       "     Mystery  Horror  Animation  ...  Director_Terrence Malick  \\\n",
       "818        0       0          0  ...                         0   \n",
       "234        0       0          0  ...                         0   \n",
       "220        0       0          0  ...                         0   \n",
       "576        0       0          0  ...                         0   \n",
       "334        0       0          0  ...                         0   \n",
       "\n",
       "     Director_Thor Freudenthal  Director_Tim Burton  Director_Tom Hooper  \\\n",
       "818                          0                    0                    0   \n",
       "234                          0                    0                    0   \n",
       "220                          0                    0                    0   \n",
       "576                          0                    0                    0   \n",
       "334                          0                    0                    0   \n",
       "\n",
       "     Director_Will Gluck  Director_William Brent Bell  Director_Woody Allen  \\\n",
       "818                    0                            0                     0   \n",
       "234                    0                            0                     0   \n",
       "220                    0                            0                     0   \n",
       "576                    0                            0                     0   \n",
       "334                    0                            0                     0   \n",
       "\n",
       "     Director_Zack Snyder  Rating_cat_Excellent  Rating_cat_average  \n",
       "818                     0                     0                   1  \n",
       "234                     0                     0                   0  \n",
       "220                     0                     0                   0  \n",
       "576                     0                     0                   0  \n",
       "334                     0                     0                   0  \n",
       "\n",
       "[5 rows x 111 columns]"
      ]
     },
     "execution_count": 11,
     "metadata": {},
     "output_type": "execute_result"
    }
   ],
   "source": [
    "X_train[X_train.columns[selected_top_columns.get_support()]].head()"
   ]
  },
  {
   "cell_type": "code",
   "execution_count": 12,
   "id": "08248d8a",
   "metadata": {},
   "outputs": [],
   "source": [
    "X_train_selected = X_train[X_train.columns[selected_top_columns.get_support()]]\n",
    "X_test_selected = X_test[X_train.columns[selected_top_columns.get_support()]]"
   ]
  },
  {
   "cell_type": "code",
   "execution_count": 13,
   "id": "e5bb3476",
   "metadata": {},
   "outputs": [],
   "source": [
    "# Scale the data\n",
    "from sklearn.preprocessing import StandardScaler"
   ]
  },
  {
   "cell_type": "code",
   "execution_count": 14,
   "id": "e191f3ae",
   "metadata": {},
   "outputs": [],
   "source": [
    "scaler = StandardScaler()"
   ]
  },
  {
   "cell_type": "code",
   "execution_count": 15,
   "id": "040ce612",
   "metadata": {},
   "outputs": [
    {
     "data": {
      "text/html": [
       "<style>#sk-container-id-1 {color: black;background-color: white;}#sk-container-id-1 pre{padding: 0;}#sk-container-id-1 div.sk-toggleable {background-color: white;}#sk-container-id-1 label.sk-toggleable__label {cursor: pointer;display: block;width: 100%;margin-bottom: 0;padding: 0.3em;box-sizing: border-box;text-align: center;}#sk-container-id-1 label.sk-toggleable__label-arrow:before {content: \"▸\";float: left;margin-right: 0.25em;color: #696969;}#sk-container-id-1 label.sk-toggleable__label-arrow:hover:before {color: black;}#sk-container-id-1 div.sk-estimator:hover label.sk-toggleable__label-arrow:before {color: black;}#sk-container-id-1 div.sk-toggleable__content {max-height: 0;max-width: 0;overflow: hidden;text-align: left;background-color: #f0f8ff;}#sk-container-id-1 div.sk-toggleable__content pre {margin: 0.2em;color: black;border-radius: 0.25em;background-color: #f0f8ff;}#sk-container-id-1 input.sk-toggleable__control:checked~div.sk-toggleable__content {max-height: 200px;max-width: 100%;overflow: auto;}#sk-container-id-1 input.sk-toggleable__control:checked~label.sk-toggleable__label-arrow:before {content: \"▾\";}#sk-container-id-1 div.sk-estimator input.sk-toggleable__control:checked~label.sk-toggleable__label {background-color: #d4ebff;}#sk-container-id-1 div.sk-label input.sk-toggleable__control:checked~label.sk-toggleable__label {background-color: #d4ebff;}#sk-container-id-1 input.sk-hidden--visually {border: 0;clip: rect(1px 1px 1px 1px);clip: rect(1px, 1px, 1px, 1px);height: 1px;margin: -1px;overflow: hidden;padding: 0;position: absolute;width: 1px;}#sk-container-id-1 div.sk-estimator {font-family: monospace;background-color: #f0f8ff;border: 1px dotted black;border-radius: 0.25em;box-sizing: border-box;margin-bottom: 0.5em;}#sk-container-id-1 div.sk-estimator:hover {background-color: #d4ebff;}#sk-container-id-1 div.sk-parallel-item::after {content: \"\";width: 100%;border-bottom: 1px solid gray;flex-grow: 1;}#sk-container-id-1 div.sk-label:hover label.sk-toggleable__label {background-color: #d4ebff;}#sk-container-id-1 div.sk-serial::before {content: \"\";position: absolute;border-left: 1px solid gray;box-sizing: border-box;top: 0;bottom: 0;left: 50%;z-index: 0;}#sk-container-id-1 div.sk-serial {display: flex;flex-direction: column;align-items: center;background-color: white;padding-right: 0.2em;padding-left: 0.2em;position: relative;}#sk-container-id-1 div.sk-item {position: relative;z-index: 1;}#sk-container-id-1 div.sk-parallel {display: flex;align-items: stretch;justify-content: center;background-color: white;position: relative;}#sk-container-id-1 div.sk-item::before, #sk-container-id-1 div.sk-parallel-item::before {content: \"\";position: absolute;border-left: 1px solid gray;box-sizing: border-box;top: 0;bottom: 0;left: 50%;z-index: -1;}#sk-container-id-1 div.sk-parallel-item {display: flex;flex-direction: column;z-index: 1;position: relative;background-color: white;}#sk-container-id-1 div.sk-parallel-item:first-child::after {align-self: flex-end;width: 50%;}#sk-container-id-1 div.sk-parallel-item:last-child::after {align-self: flex-start;width: 50%;}#sk-container-id-1 div.sk-parallel-item:only-child::after {width: 0;}#sk-container-id-1 div.sk-dashed-wrapped {border: 1px dashed gray;margin: 0 0.4em 0.5em 0.4em;box-sizing: border-box;padding-bottom: 0.4em;background-color: white;}#sk-container-id-1 div.sk-label label {font-family: monospace;font-weight: bold;display: inline-block;line-height: 1.2em;}#sk-container-id-1 div.sk-label-container {text-align: center;}#sk-container-id-1 div.sk-container {/* jupyter's `normalize.less` sets `[hidden] { display: none; }` but bootstrap.min.css set `[hidden] { display: none !important; }` so we also need the `!important` here to be able to override the default hidden behavior on the sphinx rendered scikit-learn.org. See: https://github.com/scikit-learn/scikit-learn/issues/21755 */display: inline-block !important;position: relative;}#sk-container-id-1 div.sk-text-repr-fallback {display: none;}</style><div id=\"sk-container-id-1\" class=\"sk-top-container\"><div class=\"sk-text-repr-fallback\"><pre>StandardScaler()</pre><b>In a Jupyter environment, please rerun this cell to show the HTML representation or trust the notebook. <br />On GitHub, the HTML representation is unable to render, please try loading this page with nbviewer.org.</b></div><div class=\"sk-container\" hidden><div class=\"sk-item\"><div class=\"sk-estimator sk-toggleable\"><input class=\"sk-toggleable__control sk-hidden--visually\" id=\"sk-estimator-id-1\" type=\"checkbox\" checked><label for=\"sk-estimator-id-1\" class=\"sk-toggleable__label sk-toggleable__label-arrow\">StandardScaler</label><div class=\"sk-toggleable__content\"><pre>StandardScaler()</pre></div></div></div></div></div>"
      ],
      "text/plain": [
       "StandardScaler()"
      ]
     },
     "execution_count": 15,
     "metadata": {},
     "output_type": "execute_result"
    }
   ],
   "source": [
    "scaler.fit(X_train_selected)"
   ]
  },
  {
   "cell_type": "code",
   "execution_count": 16,
   "id": "3b98a17c",
   "metadata": {},
   "outputs": [],
   "source": [
    "# Scale the training and test sets\n",
    "X_train_scaled = scaler.transform(X_train_selected)\n",
    "X_test_scaled = scaler.transform(X_test_selected)"
   ]
  },
  {
   "cell_type": "markdown",
   "id": "7bf0bc70",
   "metadata": {},
   "source": [
    "#### Model creation"
   ]
  },
  {
   "cell_type": "code",
   "execution_count": 17,
   "id": "b6fe4a01",
   "metadata": {},
   "outputs": [],
   "source": [
    "from sklearn.tree import DecisionTreeRegressor\n",
    "from sklearn.model_selection import cross_val_score\n",
    "from sklearn.metrics import mean_absolute_error"
   ]
  },
  {
   "cell_type": "code",
   "execution_count": 18,
   "id": "b9daf3b8",
   "metadata": {},
   "outputs": [
    {
     "name": "stdout",
     "output_type": "stream",
     "text": [
      "0.27726180830683606\n"
     ]
    }
   ],
   "source": [
    "dr_model = DecisionTreeRegressor()\n",
    "print(cross_val_score(dr_model, X_train_scaled, y_train, cv=5).mean())"
   ]
  },
  {
   "cell_type": "code",
   "execution_count": 22,
   "id": "c76131a1",
   "metadata": {},
   "outputs": [
    {
     "data": {
      "text/html": [
       "<style>#sk-container-id-2 {color: black;background-color: white;}#sk-container-id-2 pre{padding: 0;}#sk-container-id-2 div.sk-toggleable {background-color: white;}#sk-container-id-2 label.sk-toggleable__label {cursor: pointer;display: block;width: 100%;margin-bottom: 0;padding: 0.3em;box-sizing: border-box;text-align: center;}#sk-container-id-2 label.sk-toggleable__label-arrow:before {content: \"▸\";float: left;margin-right: 0.25em;color: #696969;}#sk-container-id-2 label.sk-toggleable__label-arrow:hover:before {color: black;}#sk-container-id-2 div.sk-estimator:hover label.sk-toggleable__label-arrow:before {color: black;}#sk-container-id-2 div.sk-toggleable__content {max-height: 0;max-width: 0;overflow: hidden;text-align: left;background-color: #f0f8ff;}#sk-container-id-2 div.sk-toggleable__content pre {margin: 0.2em;color: black;border-radius: 0.25em;background-color: #f0f8ff;}#sk-container-id-2 input.sk-toggleable__control:checked~div.sk-toggleable__content {max-height: 200px;max-width: 100%;overflow: auto;}#sk-container-id-2 input.sk-toggleable__control:checked~label.sk-toggleable__label-arrow:before {content: \"▾\";}#sk-container-id-2 div.sk-estimator input.sk-toggleable__control:checked~label.sk-toggleable__label {background-color: #d4ebff;}#sk-container-id-2 div.sk-label input.sk-toggleable__control:checked~label.sk-toggleable__label {background-color: #d4ebff;}#sk-container-id-2 input.sk-hidden--visually {border: 0;clip: rect(1px 1px 1px 1px);clip: rect(1px, 1px, 1px, 1px);height: 1px;margin: -1px;overflow: hidden;padding: 0;position: absolute;width: 1px;}#sk-container-id-2 div.sk-estimator {font-family: monospace;background-color: #f0f8ff;border: 1px dotted black;border-radius: 0.25em;box-sizing: border-box;margin-bottom: 0.5em;}#sk-container-id-2 div.sk-estimator:hover {background-color: #d4ebff;}#sk-container-id-2 div.sk-parallel-item::after {content: \"\";width: 100%;border-bottom: 1px solid gray;flex-grow: 1;}#sk-container-id-2 div.sk-label:hover label.sk-toggleable__label {background-color: #d4ebff;}#sk-container-id-2 div.sk-serial::before {content: \"\";position: absolute;border-left: 1px solid gray;box-sizing: border-box;top: 0;bottom: 0;left: 50%;z-index: 0;}#sk-container-id-2 div.sk-serial {display: flex;flex-direction: column;align-items: center;background-color: white;padding-right: 0.2em;padding-left: 0.2em;position: relative;}#sk-container-id-2 div.sk-item {position: relative;z-index: 1;}#sk-container-id-2 div.sk-parallel {display: flex;align-items: stretch;justify-content: center;background-color: white;position: relative;}#sk-container-id-2 div.sk-item::before, #sk-container-id-2 div.sk-parallel-item::before {content: \"\";position: absolute;border-left: 1px solid gray;box-sizing: border-box;top: 0;bottom: 0;left: 50%;z-index: -1;}#sk-container-id-2 div.sk-parallel-item {display: flex;flex-direction: column;z-index: 1;position: relative;background-color: white;}#sk-container-id-2 div.sk-parallel-item:first-child::after {align-self: flex-end;width: 50%;}#sk-container-id-2 div.sk-parallel-item:last-child::after {align-self: flex-start;width: 50%;}#sk-container-id-2 div.sk-parallel-item:only-child::after {width: 0;}#sk-container-id-2 div.sk-dashed-wrapped {border: 1px dashed gray;margin: 0 0.4em 0.5em 0.4em;box-sizing: border-box;padding-bottom: 0.4em;background-color: white;}#sk-container-id-2 div.sk-label label {font-family: monospace;font-weight: bold;display: inline-block;line-height: 1.2em;}#sk-container-id-2 div.sk-label-container {text-align: center;}#sk-container-id-2 div.sk-container {/* jupyter's `normalize.less` sets `[hidden] { display: none; }` but bootstrap.min.css set `[hidden] { display: none !important; }` so we also need the `!important` here to be able to override the default hidden behavior on the sphinx rendered scikit-learn.org. See: https://github.com/scikit-learn/scikit-learn/issues/21755 */display: inline-block !important;position: relative;}#sk-container-id-2 div.sk-text-repr-fallback {display: none;}</style><div id=\"sk-container-id-2\" class=\"sk-top-container\"><div class=\"sk-text-repr-fallback\"><pre>DecisionTreeRegressor()</pre><b>In a Jupyter environment, please rerun this cell to show the HTML representation or trust the notebook. <br />On GitHub, the HTML representation is unable to render, please try loading this page with nbviewer.org.</b></div><div class=\"sk-container\" hidden><div class=\"sk-item\"><div class=\"sk-estimator sk-toggleable\"><input class=\"sk-toggleable__control sk-hidden--visually\" id=\"sk-estimator-id-2\" type=\"checkbox\" checked><label for=\"sk-estimator-id-2\" class=\"sk-toggleable__label sk-toggleable__label-arrow\">DecisionTreeRegressor</label><div class=\"sk-toggleable__content\"><pre>DecisionTreeRegressor()</pre></div></div></div></div></div>"
      ],
      "text/plain": [
       "DecisionTreeRegressor()"
      ]
     },
     "execution_count": 22,
     "metadata": {},
     "output_type": "execute_result"
    }
   ],
   "source": [
    "dr_model.fit(X_train_scaled, y_train)"
   ]
  },
  {
   "cell_type": "code",
   "execution_count": 23,
   "id": "8e0a100c",
   "metadata": {},
   "outputs": [],
   "source": [
    "dr_score_train = dr_model.score(X_train_scaled, y_train)\n",
    "dr_score_test = dr_model.score(X_test_scaled, y_test)"
   ]
  },
  {
   "cell_type": "code",
   "execution_count": 24,
   "id": "c0e2b162",
   "metadata": {},
   "outputs": [
    {
     "name": "stdout",
     "output_type": "stream",
     "text": [
      "Training score:  1.0\n",
      "Testing score:  0.4445360370707161\n"
     ]
    }
   ],
   "source": [
    "print(\"Training score: \",dr_score_train)\n",
    "print(\"Testing score: \",dr_score_test)"
   ]
  },
  {
   "cell_type": "code",
   "execution_count": 37,
   "id": "fa36360d",
   "metadata": {},
   "outputs": [],
   "source": [
    "from sklearn.model_selection import GridSearchCV\n",
    "from sklearn.ensemble import RandomForestRegressor"
   ]
  },
  {
   "cell_type": "code",
   "execution_count": 38,
   "id": "4d1c5e13",
   "metadata": {},
   "outputs": [],
   "source": [
    "param_grid = {'n_estimators': [50, 100, 200],\n",
    "              'max_depth': [5, 10, 20]\n",
    "             }\n",
    "\n",
    "rf_model = RandomForestRegressor()"
   ]
  },
  {
   "cell_type": "code",
   "execution_count": 39,
   "id": "041d0b73",
   "metadata": {
    "scrolled": true
   },
   "outputs": [],
   "source": [
    "grid_search = GridSearchCV(rf_model, param_grid, cv=5, error_score='raise')"
   ]
  },
  {
   "cell_type": "code",
   "execution_count": 40,
   "id": "fc0123f9",
   "metadata": {},
   "outputs": [
    {
     "data": {
      "text/html": [
       "<style>#sk-container-id-3 {color: black;background-color: white;}#sk-container-id-3 pre{padding: 0;}#sk-container-id-3 div.sk-toggleable {background-color: white;}#sk-container-id-3 label.sk-toggleable__label {cursor: pointer;display: block;width: 100%;margin-bottom: 0;padding: 0.3em;box-sizing: border-box;text-align: center;}#sk-container-id-3 label.sk-toggleable__label-arrow:before {content: \"▸\";float: left;margin-right: 0.25em;color: #696969;}#sk-container-id-3 label.sk-toggleable__label-arrow:hover:before {color: black;}#sk-container-id-3 div.sk-estimator:hover label.sk-toggleable__label-arrow:before {color: black;}#sk-container-id-3 div.sk-toggleable__content {max-height: 0;max-width: 0;overflow: hidden;text-align: left;background-color: #f0f8ff;}#sk-container-id-3 div.sk-toggleable__content pre {margin: 0.2em;color: black;border-radius: 0.25em;background-color: #f0f8ff;}#sk-container-id-3 input.sk-toggleable__control:checked~div.sk-toggleable__content {max-height: 200px;max-width: 100%;overflow: auto;}#sk-container-id-3 input.sk-toggleable__control:checked~label.sk-toggleable__label-arrow:before {content: \"▾\";}#sk-container-id-3 div.sk-estimator input.sk-toggleable__control:checked~label.sk-toggleable__label {background-color: #d4ebff;}#sk-container-id-3 div.sk-label input.sk-toggleable__control:checked~label.sk-toggleable__label {background-color: #d4ebff;}#sk-container-id-3 input.sk-hidden--visually {border: 0;clip: rect(1px 1px 1px 1px);clip: rect(1px, 1px, 1px, 1px);height: 1px;margin: -1px;overflow: hidden;padding: 0;position: absolute;width: 1px;}#sk-container-id-3 div.sk-estimator {font-family: monospace;background-color: #f0f8ff;border: 1px dotted black;border-radius: 0.25em;box-sizing: border-box;margin-bottom: 0.5em;}#sk-container-id-3 div.sk-estimator:hover {background-color: #d4ebff;}#sk-container-id-3 div.sk-parallel-item::after {content: \"\";width: 100%;border-bottom: 1px solid gray;flex-grow: 1;}#sk-container-id-3 div.sk-label:hover label.sk-toggleable__label {background-color: #d4ebff;}#sk-container-id-3 div.sk-serial::before {content: \"\";position: absolute;border-left: 1px solid gray;box-sizing: border-box;top: 0;bottom: 0;left: 50%;z-index: 0;}#sk-container-id-3 div.sk-serial {display: flex;flex-direction: column;align-items: center;background-color: white;padding-right: 0.2em;padding-left: 0.2em;position: relative;}#sk-container-id-3 div.sk-item {position: relative;z-index: 1;}#sk-container-id-3 div.sk-parallel {display: flex;align-items: stretch;justify-content: center;background-color: white;position: relative;}#sk-container-id-3 div.sk-item::before, #sk-container-id-3 div.sk-parallel-item::before {content: \"\";position: absolute;border-left: 1px solid gray;box-sizing: border-box;top: 0;bottom: 0;left: 50%;z-index: -1;}#sk-container-id-3 div.sk-parallel-item {display: flex;flex-direction: column;z-index: 1;position: relative;background-color: white;}#sk-container-id-3 div.sk-parallel-item:first-child::after {align-self: flex-end;width: 50%;}#sk-container-id-3 div.sk-parallel-item:last-child::after {align-self: flex-start;width: 50%;}#sk-container-id-3 div.sk-parallel-item:only-child::after {width: 0;}#sk-container-id-3 div.sk-dashed-wrapped {border: 1px dashed gray;margin: 0 0.4em 0.5em 0.4em;box-sizing: border-box;padding-bottom: 0.4em;background-color: white;}#sk-container-id-3 div.sk-label label {font-family: monospace;font-weight: bold;display: inline-block;line-height: 1.2em;}#sk-container-id-3 div.sk-label-container {text-align: center;}#sk-container-id-3 div.sk-container {/* jupyter's `normalize.less` sets `[hidden] { display: none; }` but bootstrap.min.css set `[hidden] { display: none !important; }` so we also need the `!important` here to be able to override the default hidden behavior on the sphinx rendered scikit-learn.org. See: https://github.com/scikit-learn/scikit-learn/issues/21755 */display: inline-block !important;position: relative;}#sk-container-id-3 div.sk-text-repr-fallback {display: none;}</style><div id=\"sk-container-id-3\" class=\"sk-top-container\"><div class=\"sk-text-repr-fallback\"><pre>GridSearchCV(cv=5, error_score=&#x27;raise&#x27;, estimator=RandomForestRegressor(),\n",
       "             param_grid={&#x27;max_depth&#x27;: [5, 10, 20],\n",
       "                         &#x27;n_estimators&#x27;: [50, 100, 200]})</pre><b>In a Jupyter environment, please rerun this cell to show the HTML representation or trust the notebook. <br />On GitHub, the HTML representation is unable to render, please try loading this page with nbviewer.org.</b></div><div class=\"sk-container\" hidden><div class=\"sk-item sk-dashed-wrapped\"><div class=\"sk-label-container\"><div class=\"sk-label sk-toggleable\"><input class=\"sk-toggleable__control sk-hidden--visually\" id=\"sk-estimator-id-3\" type=\"checkbox\" ><label for=\"sk-estimator-id-3\" class=\"sk-toggleable__label sk-toggleable__label-arrow\">GridSearchCV</label><div class=\"sk-toggleable__content\"><pre>GridSearchCV(cv=5, error_score=&#x27;raise&#x27;, estimator=RandomForestRegressor(),\n",
       "             param_grid={&#x27;max_depth&#x27;: [5, 10, 20],\n",
       "                         &#x27;n_estimators&#x27;: [50, 100, 200]})</pre></div></div></div><div class=\"sk-parallel\"><div class=\"sk-parallel-item\"><div class=\"sk-item\"><div class=\"sk-label-container\"><div class=\"sk-label sk-toggleable\"><input class=\"sk-toggleable__control sk-hidden--visually\" id=\"sk-estimator-id-4\" type=\"checkbox\" ><label for=\"sk-estimator-id-4\" class=\"sk-toggleable__label sk-toggleable__label-arrow\">estimator: RandomForestRegressor</label><div class=\"sk-toggleable__content\"><pre>RandomForestRegressor()</pre></div></div></div><div class=\"sk-serial\"><div class=\"sk-item\"><div class=\"sk-estimator sk-toggleable\"><input class=\"sk-toggleable__control sk-hidden--visually\" id=\"sk-estimator-id-5\" type=\"checkbox\" ><label for=\"sk-estimator-id-5\" class=\"sk-toggleable__label sk-toggleable__label-arrow\">RandomForestRegressor</label><div class=\"sk-toggleable__content\"><pre>RandomForestRegressor()</pre></div></div></div></div></div></div></div></div></div></div>"
      ],
      "text/plain": [
       "GridSearchCV(cv=5, error_score='raise', estimator=RandomForestRegressor(),\n",
       "             param_grid={'max_depth': [5, 10, 20],\n",
       "                         'n_estimators': [50, 100, 200]})"
      ]
     },
     "execution_count": 40,
     "metadata": {},
     "output_type": "execute_result"
    }
   ],
   "source": [
    "grid_search.fit(X_train_scaled, y_train)"
   ]
  },
  {
   "cell_type": "code",
   "execution_count": 41,
   "id": "d5e2e2b5",
   "metadata": {},
   "outputs": [
    {
     "name": "stdout",
     "output_type": "stream",
     "text": [
      "Best parameters:  {'max_depth': 20, 'n_estimators': 100}\n",
      "Best score:  0.6364660741342635\n"
     ]
    }
   ],
   "source": [
    "print(\"Best parameters: \", grid_search.best_params_)\n",
    "print(\"Best score: \", grid_search.best_score_)"
   ]
  },
  {
   "cell_type": "code",
   "execution_count": 43,
   "id": "f5a05ed1",
   "metadata": {},
   "outputs": [
    {
     "data": {
      "text/html": [
       "<style>#sk-container-id-4 {color: black;background-color: white;}#sk-container-id-4 pre{padding: 0;}#sk-container-id-4 div.sk-toggleable {background-color: white;}#sk-container-id-4 label.sk-toggleable__label {cursor: pointer;display: block;width: 100%;margin-bottom: 0;padding: 0.3em;box-sizing: border-box;text-align: center;}#sk-container-id-4 label.sk-toggleable__label-arrow:before {content: \"▸\";float: left;margin-right: 0.25em;color: #696969;}#sk-container-id-4 label.sk-toggleable__label-arrow:hover:before {color: black;}#sk-container-id-4 div.sk-estimator:hover label.sk-toggleable__label-arrow:before {color: black;}#sk-container-id-4 div.sk-toggleable__content {max-height: 0;max-width: 0;overflow: hidden;text-align: left;background-color: #f0f8ff;}#sk-container-id-4 div.sk-toggleable__content pre {margin: 0.2em;color: black;border-radius: 0.25em;background-color: #f0f8ff;}#sk-container-id-4 input.sk-toggleable__control:checked~div.sk-toggleable__content {max-height: 200px;max-width: 100%;overflow: auto;}#sk-container-id-4 input.sk-toggleable__control:checked~label.sk-toggleable__label-arrow:before {content: \"▾\";}#sk-container-id-4 div.sk-estimator input.sk-toggleable__control:checked~label.sk-toggleable__label {background-color: #d4ebff;}#sk-container-id-4 div.sk-label input.sk-toggleable__control:checked~label.sk-toggleable__label {background-color: #d4ebff;}#sk-container-id-4 input.sk-hidden--visually {border: 0;clip: rect(1px 1px 1px 1px);clip: rect(1px, 1px, 1px, 1px);height: 1px;margin: -1px;overflow: hidden;padding: 0;position: absolute;width: 1px;}#sk-container-id-4 div.sk-estimator {font-family: monospace;background-color: #f0f8ff;border: 1px dotted black;border-radius: 0.25em;box-sizing: border-box;margin-bottom: 0.5em;}#sk-container-id-4 div.sk-estimator:hover {background-color: #d4ebff;}#sk-container-id-4 div.sk-parallel-item::after {content: \"\";width: 100%;border-bottom: 1px solid gray;flex-grow: 1;}#sk-container-id-4 div.sk-label:hover label.sk-toggleable__label {background-color: #d4ebff;}#sk-container-id-4 div.sk-serial::before {content: \"\";position: absolute;border-left: 1px solid gray;box-sizing: border-box;top: 0;bottom: 0;left: 50%;z-index: 0;}#sk-container-id-4 div.sk-serial {display: flex;flex-direction: column;align-items: center;background-color: white;padding-right: 0.2em;padding-left: 0.2em;position: relative;}#sk-container-id-4 div.sk-item {position: relative;z-index: 1;}#sk-container-id-4 div.sk-parallel {display: flex;align-items: stretch;justify-content: center;background-color: white;position: relative;}#sk-container-id-4 div.sk-item::before, #sk-container-id-4 div.sk-parallel-item::before {content: \"\";position: absolute;border-left: 1px solid gray;box-sizing: border-box;top: 0;bottom: 0;left: 50%;z-index: -1;}#sk-container-id-4 div.sk-parallel-item {display: flex;flex-direction: column;z-index: 1;position: relative;background-color: white;}#sk-container-id-4 div.sk-parallel-item:first-child::after {align-self: flex-end;width: 50%;}#sk-container-id-4 div.sk-parallel-item:last-child::after {align-self: flex-start;width: 50%;}#sk-container-id-4 div.sk-parallel-item:only-child::after {width: 0;}#sk-container-id-4 div.sk-dashed-wrapped {border: 1px dashed gray;margin: 0 0.4em 0.5em 0.4em;box-sizing: border-box;padding-bottom: 0.4em;background-color: white;}#sk-container-id-4 div.sk-label label {font-family: monospace;font-weight: bold;display: inline-block;line-height: 1.2em;}#sk-container-id-4 div.sk-label-container {text-align: center;}#sk-container-id-4 div.sk-container {/* jupyter's `normalize.less` sets `[hidden] { display: none; }` but bootstrap.min.css set `[hidden] { display: none !important; }` so we also need the `!important` here to be able to override the default hidden behavior on the sphinx rendered scikit-learn.org. See: https://github.com/scikit-learn/scikit-learn/issues/21755 */display: inline-block !important;position: relative;}#sk-container-id-4 div.sk-text-repr-fallback {display: none;}</style><div id=\"sk-container-id-4\" class=\"sk-top-container\"><div class=\"sk-text-repr-fallback\"><pre>RandomForestRegressor(max_depth=20)</pre><b>In a Jupyter environment, please rerun this cell to show the HTML representation or trust the notebook. <br />On GitHub, the HTML representation is unable to render, please try loading this page with nbviewer.org.</b></div><div class=\"sk-container\" hidden><div class=\"sk-item\"><div class=\"sk-estimator sk-toggleable\"><input class=\"sk-toggleable__control sk-hidden--visually\" id=\"sk-estimator-id-6\" type=\"checkbox\" checked><label for=\"sk-estimator-id-6\" class=\"sk-toggleable__label sk-toggleable__label-arrow\">RandomForestRegressor</label><div class=\"sk-toggleable__content\"><pre>RandomForestRegressor(max_depth=20)</pre></div></div></div></div></div>"
      ],
      "text/plain": [
       "RandomForestRegressor(max_depth=20)"
      ]
     },
     "execution_count": 43,
     "metadata": {},
     "output_type": "execute_result"
    }
   ],
   "source": [
    "# Creating best model\n",
    "\n",
    "rf_best = RandomForestRegressor(n_estimators=100, max_depth=20)\n",
    "rf_best.fit(X_train_scaled, y_train)"
   ]
  },
  {
   "cell_type": "code",
   "execution_count": 44,
   "id": "73c621e0",
   "metadata": {},
   "outputs": [],
   "source": [
    "rf_best_pred = rf_best.predict(X_test_scaled)"
   ]
  },
  {
   "cell_type": "code",
   "execution_count": 45,
   "id": "b75fcd14",
   "metadata": {},
   "outputs": [
    {
     "name": "stdout",
     "output_type": "stream",
     "text": [
      "Mean Absolute Error: 34.00\n",
      "Mean Squared Error: 2165.24\n",
      "Root Mean Squared Error: 46.53\n",
      "R-squared score: 0.67\n"
     ]
    }
   ],
   "source": [
    "from sklearn.metrics import mean_absolute_error, mean_squared_error, r2_score\n",
    "# calculate mean absolute error\n",
    "mae = mean_absolute_error(y_test, rf_best_pred)\n",
    "print(\"Mean Absolute Error: {:.2f}\".format(mae))\n",
    "\n",
    "# calculate mean squared error\n",
    "mse = mean_squared_error(y_test, rf_best_pred)\n",
    "print(\"Mean Squared Error: {:.2f}\".format(mse))\n",
    "\n",
    "# calculate root mean squared error\n",
    "rmse = np.sqrt(mse)\n",
    "print(\"Root Mean Squared Error: {:.2f}\".format(rmse))\n",
    "\n",
    "# calculate R-squared score\n",
    "r2 = r2_score(y_test, rf_best_pred)\n",
    "print(\"R-squared score: {:.2f}\".format(r2))"
   ]
  },
  {
   "cell_type": "code",
   "execution_count": null,
   "id": "1414d49d",
   "metadata": {},
   "outputs": [],
   "source": []
  }
 ],
 "metadata": {
  "kernelspec": {
   "display_name": "bobbykernal",
   "language": "python",
   "name": "bobbykernal"
  },
  "language_info": {
   "codemirror_mode": {
    "name": "ipython",
    "version": 3
   },
   "file_extension": ".py",
   "mimetype": "text/x-python",
   "name": "python",
   "nbconvert_exporter": "python",
   "pygments_lexer": "ipython3",
   "version": "3.10.6"
  }
 },
 "nbformat": 4,
 "nbformat_minor": 5
}
